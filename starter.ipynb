{
 "cells": [
  {
   "cell_type": "markdown",
   "metadata": {},
   "source": [
    "# Deploy and monitor a machine learning workflow for Image Classification"
   ]
  },
  {
   "cell_type": "markdown",
   "metadata": {},
   "source": [
    "## Setting up this notebook\n",
    "\n",
    "Notes about the instance size and kernel setup: this notebook has been tested on\n",
    "\n",
    "1. The `Python 3 (Data Science)` kernel\n",
    "2. The `ml.t3.medium` Sagemaker notebook instance\n",
    "\n",
    "## Data Staging\n",
    "\n",
    "We'll use a sample dataset called CIFAR to simulate the challenges Scones Unlimited are facing in Image Classification. In order to start working with CIFAR we'll need to:\n",
    "\n",
    "1. Extract the data from a hosting service\n",
    "2. Transform it into a usable shape and format\n",
    "3. Load it into a production system\n",
    "\n",
    "In other words, we're going to do some simple ETL!\n",
    "\n",
    "### 1. Extract the data from the hosting service\n",
    "\n",
    "In the cell below, define a function `extract_cifar_data` that extracts python version of the CIFAR-100 dataset. The CIFAR dataaset is open source and generously hosted by the University of Toronto at: https://www.cs.toronto.edu/~kriz/cifar-100-python.tar.gz "
   ]
  },
  {
   "cell_type": "code",
   "execution_count": 1,
   "metadata": {},
   "outputs": [],
   "source": [
    "import requests\n",
    "\n",
    "\n",
    "def extract_cifar_data(url, filename=\"cifar.tar.gz\"):\n",
    "    \"\"\"A function for extracting the CIFAR-100 dataset and storing it as a gzipped file\n",
    "\n",
    "    Arguments:\n",
    "    url      -- the URL where the dataset is hosted\n",
    "    filename -- the full path where the dataset will be written\n",
    "\n",
    "    \"\"\"\n",
    "    \n",
    "    # Todo: request the data from the data url\n",
    "    # Hint: use `requests.get` method\n",
    "    r = requests.get(url)\n",
    "    with open(filename, \"wb\") as file_context:\n",
    "        file_context.write(r.content)\n",
    "    return"
   ]
  },
  {
   "cell_type": "markdown",
   "metadata": {},
   "source": [
    "Let's test it out! Run the following cell and check whether a new file `cifar.tar.gz` is created in the file explorer."
   ]
  },
  {
   "cell_type": "code",
   "execution_count": 2,
   "metadata": {},
   "outputs": [],
   "source": [
    "extract_cifar_data(\"https://www.cs.toronto.edu/~kriz/cifar-100-python.tar.gz\")     "
   ]
  },
  {
   "cell_type": "markdown",
   "metadata": {},
   "source": [
    "### 2. Transform the data into a usable shape and format\n",
    "\n",
    "Clearly, distributing the data as a gzipped archive makes sense for the hosting service! It saves on bandwidth, storage, and it's a widely-used archive format. In fact, it's so widely used that the Python community ships a utility for working with them, `tarfile`, as part of its Standard Library. Execute the following cell to decompress your extracted dataset:"
   ]
  },
  {
   "cell_type": "code",
   "execution_count": 3,
   "metadata": {},
   "outputs": [],
   "source": [
    "import tarfile\n",
    "\n",
    "with tarfile.open(\"cifar.tar.gz\", \"r:gz\") as tar:\n",
    "    tar.extractall()"
   ]
  },
  {
   "cell_type": "markdown",
   "metadata": {},
   "source": [
    "A new folder `cifar-100-python` should be created, containing `meta`, `test`, and `train` files. These files are `pickles` and the [CIFAR homepage](https://www.cs.toronto.edu/~kriz/cifar.html) provides a simple script that can be used to load them. We've adapted the script below for you to run:"
   ]
  },
  {
   "cell_type": "code",
   "execution_count": 4,
   "metadata": {},
   "outputs": [],
   "source": [
    "import pickle\n",
    "\n",
    "with open(\"./cifar-100-python/meta\", \"rb\") as f:\n",
    "    dataset_meta = pickle.load(f, encoding='bytes')\n",
    "\n",
    "with open(\"./cifar-100-python/test\", \"rb\") as f:\n",
    "    dataset_test = pickle.load(f, encoding='bytes')\n",
    "\n",
    "with open(\"./cifar-100-python/train\", \"rb\") as f:\n",
    "    dataset_train = pickle.load(f, encoding='bytes')"
   ]
  },
  {
   "cell_type": "code",
   "execution_count": 5,
   "metadata": {},
   "outputs": [
    {
     "data": {
      "text/plain": [
       "dict_keys([b'filenames', b'batch_label', b'fine_labels', b'coarse_labels', b'data'])"
      ]
     },
     "execution_count": 5,
     "metadata": {},
     "output_type": "execute_result"
    }
   ],
   "source": [
    "# Feel free to explore the datasets\n",
    "\n",
    "dataset_train.keys()"
   ]
  },
  {
   "cell_type": "markdown",
   "metadata": {},
   "source": [
    "As documented on the homepage, `b'data'` contains rows of 3073 unsigned integers, representing three channels (red, green, and blue) for one 32x32 pixel image per row."
   ]
  },
  {
   "cell_type": "code",
   "execution_count": 6,
   "metadata": {},
   "outputs": [
    {
     "data": {
      "text/plain": [
       "3072"
      ]
     },
     "execution_count": 6,
     "metadata": {},
     "output_type": "execute_result"
    }
   ],
   "source": [
    "32*32*3"
   ]
  },
  {
   "cell_type": "markdown",
   "metadata": {},
   "source": [
    "For a simple gut-check, let's transform one of our images. Each 1024 items in a row is a channel (red, green, then blue). Each 32 items in the channel are a row in the 32x32 image. Using python, we can stack these channels into a 32x32x3 array, and save it as a PNG file:"
   ]
  },
  {
   "cell_type": "code",
   "execution_count": 7,
   "metadata": {},
   "outputs": [],
   "source": [
    "import numpy as np\n",
    "\n",
    "# Each 1024 in a row is a channel (red, green, then blue)\n",
    "row = dataset_train[b'data'][0]\n",
    "red, green, blue = row[0:1024], row[1024:2048], row[2048:]\n",
    "\n",
    "# Each 32 items in the channel are a row in the 32x32 image\n",
    "red = red.reshape(32,32)\n",
    "green = green.reshape(32,32)\n",
    "blue = blue.reshape(32,32)\n",
    "\n",
    "# Combine the channels into a 32x32x3 image!\n",
    "combined = np.dstack((red,green,blue))"
   ]
  },
  {
   "cell_type": "markdown",
   "metadata": {},
   "source": [
    "For a more concise version, consider the following:"
   ]
  },
  {
   "cell_type": "code",
   "execution_count": 8,
   "metadata": {},
   "outputs": [],
   "source": [
    "# All in one:\n",
    "test_image = np.dstack((\n",
    "    row[0:1024].reshape(32,32),\n",
    "    row[1024:2048].reshape(32,32),\n",
    "    row[2048:].reshape(32,32)\n",
    "))"
   ]
  },
  {
   "cell_type": "code",
   "execution_count": 9,
   "metadata": {},
   "outputs": [
    {
     "data": {
      "image/png": "[encoded data removed]",
      "text/plain": [
       "<Figure size 640x480 with 1 Axes>"
      ]
     },
     "metadata": {},
     "output_type": "display_data"
    }
   ],
   "source": [
    "import matplotlib.pyplot as plt\n",
    "plt.imshow(test_image);"
   ]
  },
  {
   "cell_type": "markdown",
   "metadata": {},
   "source": [
    "Looks like a cow! Let's check the label. `dataset_meta` contains label names in order, and `dataset_train` has a list of labels for each row."
   ]
  },
  {
   "cell_type": "code",
   "execution_count": 10,
   "metadata": {},
   "outputs": [
    {
     "data": {
      "text/plain": [
       "19"
      ]
     },
     "execution_count": 10,
     "metadata": {},
     "output_type": "execute_result"
    }
   ],
   "source": [
    "dataset_train[b'fine_labels'][0]"
   ]
  },
  {
   "cell_type": "markdown",
   "metadata": {},
   "source": [
    "Our image has a label of `19`, so let's see what the 19th item is in the list of label names."
   ]
  },
  {
   "cell_type": "code",
   "execution_count": 11,
   "metadata": {},
   "outputs": [
    {
     "name": "stdout",
     "output_type": "stream",
     "text": [
      "b'cattle'\n"
     ]
    }
   ],
   "source": [
    "print(dataset_meta[b'fine_label_names'][19])"
   ]
  },
  {
   "cell_type": "markdown",
   "metadata": {},
   "source": [
    "Ok! 'cattle' sounds about right. By the way, using the previous two lines we can do:"
   ]
  },
  {
   "cell_type": "code",
   "execution_count": 12,
   "metadata": {},
   "outputs": [
    {
     "name": "stdout",
     "output_type": "stream",
     "text": [
      "b'cattle'\n"
     ]
    }
   ],
   "source": [
    "n = 0\n",
    "print(dataset_meta[b'fine_label_names'][dataset_train[b'fine_labels'][n]])"
   ]
  },
  {
   "cell_type": "markdown",
   "metadata": {},
   "source": [
    "Now we know how to check labels, is there a way that we can also check file names? `dataset_train` also contains a `b'filenames'` key. Let's see what we have here:"
   ]
  },
  {
   "cell_type": "code",
   "execution_count": 13,
   "metadata": {},
   "outputs": [
    {
     "name": "stdout",
     "output_type": "stream",
     "text": [
      "b'bos_taurus_s_000507.png'\n"
     ]
    }
   ],
   "source": [
    "print(dataset_train[b'filenames'][0])"
   ]
  },
  {
   "cell_type": "markdown",
   "metadata": {},
   "source": [
    "\"Taurus\" is the name of a subspecies of cattle, so this looks like a pretty reasonable filename. To save an image we can also do:"
   ]
  },
  {
   "cell_type": "code",
   "execution_count": 14,
   "metadata": {},
   "outputs": [],
   "source": [
    "plt.imsave(\"file.png\", test_image)"
   ]
  },
  {
   "cell_type": "markdown",
   "metadata": {},
   "source": [
    "Your new PNG file should now appear in the file explorer -- go ahead and pop it open to see!\n",
    "\n",
    "Now that you know how to reshape the images, save them as files, and capture their filenames and labels, let's just capture all the bicycles and motorcycles and save them. Scones Unlimited can use a model that tells these apart to route delivery drivers automatically.\n",
    "\n",
    "In the following cell, identify the label numbers for Bicycles and Motorcycles:"
   ]
  },
  {
   "cell_type": "code",
   "execution_count": 16,
   "metadata": {},
   "outputs": [],
   "source": [
    "import pandas as pd\n",
    "\n",
    "bicycle_label = dataset_meta[b'fine_label_names'].index(b'bicycle')\n",
    "motorcycle_label = dataset_meta[b'fine_label_names'].index(b'motorcycle')"
   ]
  },
  {
   "cell_type": "markdown",
   "metadata": {},
   "source": [
    "Good job! We only need objects with label 8 and 48 -- this drastically simplifies our handling of the data! Below we construct a dataframe for you, and you can safely drop the rows that don't contain observations about bicycles and motorcycles. Fill in the missing lines below to drop all other rows:"
   ]
  },
  {
   "cell_type": "code",
   "execution_count": 17,
   "metadata": {},
   "outputs": [],
   "source": [
    "#Construct the dataframe\n",
    "df_train = pd.DataFrame({\n",
    "    \"filenames\": dataset_train[b'filenames'],\n",
    "    \"labels\": dataset_train[b'fine_labels'],\n",
    "    \"row\": range(len(dataset_train[b'filenames']))\n",
    "})\n",
    "\n",
    "# Drop all rows from df_train where label is not 8 or 48\n",
    "df_train = df_train[df_train[\"labels\"].isin([bicycle_label, motorcycle_label])]\n",
    "\n",
    "# Decode df_train.filenames so they are regular strings\n",
    "df_train[\"filenames\"] = df_train[\"filenames\"].apply(lambda x: x.decode(\"utf-8\"))\n",
    "\n",
    "df_test = pd.DataFrame({\n",
    "    \"filenames\": dataset_test[b'filenames'],\n",
    "    \"labels\": dataset_test[b'fine_labels'],\n",
    "    \"row\": range(len(dataset_test[b'filenames']))\n",
    "})\n",
    "\n",
    "# Drop all rows from df_test where label is not 8 or 48\n",
    "df_test = df_test[df_test[\"labels\"].isin([bicycle_label, motorcycle_label])]\n",
    "\n",
    "# Decode df_test.filenames so they are regular strings\n",
    "df_test[\"filenames\"] = df_test[\"filenames\"].apply(lambda x: x.decode(\"utf-8\"))"
   ]
  },
  {
   "cell_type": "markdown",
   "metadata": {},
   "source": [
    "Now that the data is filtered for just our classes, we can save all our images."
   ]
  },
  {
   "cell_type": "code",
   "execution_count": 18,
   "metadata": {},
   "outputs": [],
   "source": [
    "!mkdir ./train\n",
    "!mkdir ./test"
   ]
  },
  {
   "cell_type": "markdown",
   "metadata": {},
   "source": [
    "In the previous sections we introduced you to several key snippets of code:\n",
    "\n",
    "1. Grabbing the image data:\n",
    "\n",
    "```python\n",
    "dataset_train[b'data'][0]\n",
    "```\n",
    "\n",
    "2. A simple idiom for stacking the image data into the right shape\n",
    "\n",
    "```python\n",
    "import numpy as np\n",
    "np.dstack((\n",
    "    row[0:1024].reshape(32,32),\n",
    "    row[1024:2048].reshape(32,32),\n",
    "    row[2048:].reshape(32,32)\n",
    "))\n",
    "```\n",
    "\n",
    "3. A simple `matplotlib` utility for saving images\n",
    "\n",
    "```python\n",
    "plt.imsave(path+row['filenames'], target)\n",
    "```\n",
    "\n",
    "Compose these together into a function that saves all the images into the `./test` and `./train` directories. Use the comments in the body of the `save_images` function below to guide your construction of the function:\n"
   ]
  },
  {
   "cell_type": "code",
   "execution_count": 20,
   "metadata": {},
   "outputs": [],
   "source": [
    "def save_images(df, dataset, folder):\n",
    "    for index, row in df.iterrows():\n",
    "        img = dataset[b'data'][row['row']]\n",
    "        target = np.dstack((\n",
    "            img[0:1024].reshape(32,32),\n",
    "            img[1024:2048].reshape(32,32),\n",
    "            img[2048:].reshape(32,32)\n",
    "        ))\n",
    "        plt.imsave(f\"{folder}/{row['filenames']}\", target)\n",
    "\n",
    "save_images(df_train, dataset_train, \"./train\")\n",
    "save_images(df_test, dataset_test, \"./test\")"
   ]
  },
  {
   "cell_type": "markdown",
   "metadata": {},
   "source": [
    "### 3. Load the data\n",
    "\n",
    "Now we can load the data into S3.\n",
    "\n",
    "Using the sagemaker SDK grab the current region, execution role, and bucket."
   ]
  },
  {
   "cell_type": "code",
   "execution_count": 21,
   "metadata": {},
   "outputs": [
    {
     "name": "stdout",
     "output_type": "stream",
     "text": [
      "sagemaker.config INFO - Not applying SDK defaults from location: /etc/xdg/sagemaker/config.yaml\n",
      "sagemaker.config INFO - Not applying SDK defaults from location: /home/sagemaker-user/.config/sagemaker/config.yaml\n",
      "Default Bucket: sagemaker-us-east-1-019193505543\n",
      "AWS Region: us-east-1\n",
      "RoleArn: arn:aws:iam::019193505543:role/service-role/AmazonSageMaker-ExecutionRole-20240805T190604\n"
     ]
    }
   ],
   "source": [
    "import sagemaker\n",
    "\n",
    "\n",
    "bucket = sagemaker.Session().default_bucket()\n",
    "print(\"Default Bucket: {}\".format(bucket))\n",
    "\n",
    "region = sagemaker.Session().boto_region_name\n",
    "print(\"AWS Region: {}\".format(region))\n",
    "\n",
    "role = sagemaker.get_execution_role()\n",
    "print(\"RoleArn: {}\".format(role))"
   ]
  },
  {
   "cell_type": "markdown",
   "metadata": {},
   "source": [
    "With this data we can easily sync your data up into S3!"
   ]
  },
  {
   "cell_type": "code",
   "execution_count": null,
   "metadata": {},
   "outputs": [
    {
     "name": "stdout",
     "output_type": "stream",
     "text": [
      "upload: train/bicycle_s_000017.png to s3://sagemaker-us-east-1-019193505543/train/bicycle_s_000017.png\n",
      "upload: train/bicycle_s_000039.png to s3://sagemaker-us-east-1-019193505543/train/bicycle_s_000039.png\n",
      "upload: train/bicycle_s_000038.png to s3://sagemaker-us-east-1-019193505543/train/bicycle_s_000038.png\n",
      "upload: train/bicycle_s_000021.png to s3://sagemaker-us-east-1-019193505543/train/bicycle_s_000021.png\n",
      "upload: train/bicycle_s_000035.png to s3://sagemaker-us-east-1-019193505543/train/bicycle_s_000035.png\n",
      "upload: train/bicycle_s_000043.png to s3://sagemaker-us-east-1-019193505543/train/bicycle_s_000043.png\n",
      "upload: train/bicycle_s_000051.png to s3://sagemaker-us-east-1-019193505543/train/bicycle_s_000051.png\n",
      "upload: train/bicycle_s_000124.png to s3://sagemaker-us-east-1-019193505543/train/bicycle_s_000124.png\n",
      "upload: train/bicycle_s_000180.png to s3://sagemaker-us-east-1-019193505543/train/bicycle_s_000180.png\n",
      "upload: train/bicycle_s_000159.png to s3://sagemaker-us-east-1-019193505543/train/bicycle_s_000159.png\n",
      "upload: train/bicycle_s_000137.png to s3://sagemaker-us-east-1-019193505543/train/bicycle_s_000137.png\n",
      "upload: train/bicycle_s_000156.png to s3://sagemaker-us-east-1-019193505543/train/bicycle_s_000156.png\n",
      "upload: train/bicycle_s_000149.png to s3://sagemaker-us-east-1-019193505543/train/bicycle_s_000149.png\n",
      "upload: train/bicycle_s_000231.png to s3://sagemaker-us-east-1-019193505543/train/bicycle_s_000231.png\n",
      "upload: train/bicycle_s_000071.png to s3://sagemaker-us-east-1-019193505543/train/bicycle_s_000071.png\n",
      "upload: train/bicycle_s_000243.png to s3://sagemaker-us-east-1-019193505543/train/bicycle_s_000243.png\n",
      "upload: train/bicycle_s_000066.png to s3://sagemaker-us-east-1-019193505543/train/bicycle_s_000066.png\n",
      "upload: train/bicycle_s_000369.png to s3://sagemaker-us-east-1-019193505543/train/bicycle_s_000369.png\n",
      "upload: train/bicycle_s_000147.png to s3://sagemaker-us-east-1-019193505543/train/bicycle_s_000147.png\n",
      "upload: train/bicycle_s_000314.png to s3://sagemaker-us-east-1-019193505543/train/bicycle_s_000314.png\n",
      "upload: train/bicycle_s_000371.png to s3://sagemaker-us-east-1-019193505543/train/bicycle_s_000371.png\n",
      "upload: train/bicycle_s_000392.png to s3://sagemaker-us-east-1-019193505543/train/bicycle_s_000392.png\n",
      "upload: train/bicycle_s_000099.png to s3://sagemaker-us-east-1-019193505543/train/bicycle_s_000099.png\n",
      "upload: train/bicycle_s_000396.png to s3://sagemaker-us-east-1-019193505543/train/bicycle_s_000396.png\n",
      "upload: train/bicycle_s_000235.png to s3://sagemaker-us-east-1-019193505543/train/bicycle_s_000235.png\n",
      "upload: train/bicycle_s_000279.png to s3://sagemaker-us-east-1-019193505543/train/bicycle_s_000279.png\n",
      "upload: train/bicycle_s_000282.png to s3://sagemaker-us-east-1-019193505543/train/bicycle_s_000282.png\n",
      "upload: train/bicycle_s_000408.png to s3://sagemaker-us-east-1-019193505543/train/bicycle_s_000408.png\n",
      "upload: train/bicycle_s_000435.png to s3://sagemaker-us-east-1-019193505543/train/bicycle_s_000435.png\n",
      "upload: train/bicycle_s_000467.png to s3://sagemaker-us-east-1-019193505543/train/bicycle_s_000467.png\n",
      "upload: train/bicycle_s_000522.png to s3://sagemaker-us-east-1-019193505543/train/bicycle_s_000522.png\n",
      "upload: train/bicycle_s_000399.png to s3://sagemaker-us-east-1-019193505543/train/bicycle_s_000399.png\n",
      "upload: train/bicycle_s_000437.png to s3://sagemaker-us-east-1-019193505543/train/bicycle_s_000437.png\n",
      "upload: train/bicycle_s_000463.png to s3://sagemaker-us-east-1-019193505543/train/bicycle_s_000463.png\n",
      "upload: train/bicycle_s_000537.png to s3://sagemaker-us-east-1-019193505543/train/bicycle_s_000537.png\n",
      "upload: train/bicycle_s_000536.png to s3://sagemaker-us-east-1-019193505543/train/bicycle_s_000536.png\n",
      "upload: train/bicycle_s_000546.png to s3://sagemaker-us-east-1-019193505543/train/bicycle_s_000546.png\n",
      "upload: train/bicycle_s_000491.png to s3://sagemaker-us-east-1-019193505543/train/bicycle_s_000491.png\n",
      "upload: train/bicycle_s_000569.png to s3://sagemaker-us-east-1-019193505543/train/bicycle_s_000569.png\n",
      "upload: train/bicycle_s_000667.png to s3://sagemaker-us-east-1-019193505543/train/bicycle_s_000667.png\n",
      "upload: train/bicycle_s_000723.png to s3://sagemaker-us-east-1-019193505543/train/bicycle_s_000723.png\n",
      "upload: train/bicycle_s_000561.png to s3://sagemaker-us-east-1-019193505543/train/bicycle_s_000561.png\n",
      "upload: train/bicycle_s_000668.png to s3://sagemaker-us-east-1-019193505543/train/bicycle_s_000668.png\n",
      "upload: train/bicycle_s_000753.png to s3://sagemaker-us-east-1-019193505543/train/bicycle_s_000753.png\n",
      "upload: train/bicycle_s_000759.png to s3://sagemaker-us-east-1-019193505543/train/bicycle_s_000759.png\n",
      "upload: train/bicycle_s_000778.png to s3://sagemaker-us-east-1-019193505543/train/bicycle_s_000778.png\n",
      "upload: train/bicycle_s_000774.png to s3://sagemaker-us-east-1-019193505543/train/bicycle_s_000774.png\n",
      "upload: train/bicycle_s_000861.png to s3://sagemaker-us-east-1-019193505543/train/bicycle_s_000861.png\n",
      "upload: train/bicycle_s_000785.png to s3://sagemaker-us-east-1-019193505543/train/bicycle_s_000785.png\n",
      "upload: train/bicycle_s_000775.png to s3://sagemaker-us-east-1-019193505543/train/bicycle_s_000775.png\n",
      "upload: train/bicycle_s_000822.png to s3://sagemaker-us-east-1-019193505543/train/bicycle_s_000822.png\n",
      "upload: train/bicycle_s_000978.png to s3://sagemaker-us-east-1-019193505543/train/bicycle_s_000978.png\n",
      "upload: train/bicycle_s_000781.png to s3://sagemaker-us-east-1-019193505543/train/bicycle_s_000781.png\n",
      "upload: train/bicycle_s_000829.png to s3://sagemaker-us-east-1-019193505543/train/bicycle_s_000829.png\n",
      "upload: train/bicycle_s_000951.png to s3://sagemaker-us-east-1-019193505543/train/bicycle_s_000951.png\n",
      "upload: train/bicycle_s_000782.png to s3://sagemaker-us-east-1-019193505543/train/bicycle_s_000782.png\n",
      "upload: train/bicycle_s_001002.png to s3://sagemaker-us-east-1-019193505543/train/bicycle_s_001002.png\n",
      "upload: train/bicycle_s_000996.png to s3://sagemaker-us-east-1-019193505543/train/bicycle_s_000996.png\n",
      "upload: train/bicycle_s_000986.png to s3://sagemaker-us-east-1-019193505543/train/bicycle_s_000986.png\n",
      "upload: train/bicycle_s_001168.png to s3://sagemaker-us-east-1-019193505543/train/bicycle_s_001168.png\n",
      "upload: train/bicycle_s_001174.png to s3://sagemaker-us-east-1-019193505543/train/bicycle_s_001174.png\n",
      "upload: train/bicycle_s_001203.png to s3://sagemaker-us-east-1-019193505543/train/bicycle_s_001203.png\n",
      "upload: train/bicycle_s_001205.png to s3://sagemaker-us-east-1-019193505543/train/bicycle_s_001205.png\n",
      "upload: train/bicycle_s_001245.png to s3://sagemaker-us-east-1-019193505543/train/bicycle_s_001245.png\n",
      "upload: train/bicycle_s_001111.png to s3://sagemaker-us-east-1-019193505543/train/bicycle_s_001111.png\n",
      "upload: train/bicycle_s_001402.png to s3://sagemaker-us-east-1-019193505543/train/bicycle_s_001402.png\n",
      "upload: train/bicycle_s_001348.png to s3://sagemaker-us-east-1-019193505543/train/bicycle_s_001348.png\n",
      "upload: train/bicycle_s_001411.png to s3://sagemaker-us-east-1-019193505543/train/bicycle_s_001411.png\n",
      "upload: train/bicycle_s_001388.png to s3://sagemaker-us-east-1-019193505543/train/bicycle_s_001388.png\n",
      "upload: train/bicycle_s_001228.png to s3://sagemaker-us-east-1-019193505543/train/bicycle_s_001228.png\n",
      "upload: train/bicycle_s_001409.png to s3://sagemaker-us-east-1-019193505543/train/bicycle_s_001409.png\n",
      "upload: train/bicycle_s_001448.png to s3://sagemaker-us-east-1-019193505543/train/bicycle_s_001448.png\n",
      "upload: train/bicycle_s_001554.png to s3://sagemaker-us-east-1-019193505543/train/bicycle_s_001554.png\n",
      "upload: train/bicycle_s_001569.png to s3://sagemaker-us-east-1-019193505543/train/bicycle_s_001569.png\n",
      "upload: train/bicycle_s_001583.png to s3://sagemaker-us-east-1-019193505543/train/bicycle_s_001583.png\n",
      "upload: train/bicycle_s_001470.png to s3://sagemaker-us-east-1-019193505543/train/bicycle_s_001470.png\n",
      "upload: train/bicycle_s_001338.png to s3://sagemaker-us-east-1-019193505543/train/bicycle_s_001338.png\n",
      "upload: train/bicycle_s_001673.png to s3://sagemaker-us-east-1-019193505543/train/bicycle_s_001673.png\n",
      "upload: train/bicycle_s_001247.png to s3://sagemaker-us-east-1-019193505543/train/bicycle_s_001247.png\n",
      "upload: train/bicycle_s_001642.png to s3://sagemaker-us-east-1-019193505543/train/bicycle_s_001642.png\n",
      "upload: train/bicycle_s_001452.png to s3://sagemaker-us-east-1-019193505543/train/bicycle_s_001452.png\n",
      "upload: train/bicycle_s_001687.png to s3://sagemaker-us-east-1-019193505543/train/bicycle_s_001687.png\n",
      "upload: train/bicycle_s_001693.png to s3://sagemaker-us-east-1-019193505543/train/bicycle_s_001693.png\n",
      "upload: train/bicycle_s_001663.png to s3://sagemaker-us-east-1-019193505543/train/bicycle_s_001663.png\n",
      "upload: train/bicycle_s_001688.png to s3://sagemaker-us-east-1-019193505543/train/bicycle_s_001688.png\n",
      "upload: train/bicycle_s_001681.png to s3://sagemaker-us-east-1-019193505543/train/bicycle_s_001681.png\n",
      "upload: train/bicycle_s_001814.png to s3://sagemaker-us-east-1-019193505543/train/bicycle_s_001814.png\n",
      "upload: train/bicycle_s_001748.png to s3://sagemaker-us-east-1-019193505543/train/bicycle_s_001748.png\n",
      "upload: train/bicycle_s_001757.png to s3://sagemaker-us-east-1-019193505543/train/bicycle_s_001757.png\n",
      "upload: train/bicycle_s_001956.png to s3://sagemaker-us-east-1-019193505543/train/bicycle_s_001956.png\n",
      "upload: train/bicycle_s_001679.png to s3://sagemaker-us-east-1-019193505543/train/bicycle_s_001679.png\n",
      "upload: train/bicycle_s_002012.png to s3://sagemaker-us-east-1-019193505543/train/bicycle_s_002012.png\n",
      "upload: train/bicycle_s_002005.png to s3://sagemaker-us-east-1-019193505543/train/bicycle_s_002005.png\n",
      "upload: train/bicycle_s_002049.png to s3://sagemaker-us-east-1-019193505543/train/bicycle_s_002049.png\n",
      "upload: train/bicycle_s_002029.png to s3://sagemaker-us-east-1-019193505543/train/bicycle_s_002029.png\n",
      "upload: train/bicycle_s_002129.png to s3://sagemaker-us-east-1-019193505543/train/bicycle_s_002129.png\n",
      "upload: train/bicycle_s_001928.png to s3://sagemaker-us-east-1-019193505543/train/bicycle_s_001928.png\n",
      "upload: train/bicycle_s_002132.png to s3://sagemaker-us-east-1-019193505543/train/bicycle_s_002132.png\n",
      "upload: train/bicycle_s_002153.png to s3://sagemaker-us-east-1-019193505543/train/bicycle_s_002153.png\n",
      "upload: train/bicycle_s_001904.png to s3://sagemaker-us-east-1-019193505543/train/bicycle_s_001904.png\n",
      "upload: train/bicycle_s_002237.png to s3://sagemaker-us-east-1-019193505543/train/bicycle_s_002237.png\n",
      "upload: train/bicycle_s_002258.png to s3://sagemaker-us-east-1-019193505543/train/bicycle_s_002258.png\n",
      "upload: train/bicycle_s_002100.png to s3://sagemaker-us-east-1-019193505543/train/bicycle_s_002100.png\n",
      "upload: train/bicycle_s_002338.png to s3://sagemaker-us-east-1-019193505543/train/bicycle_s_002338.png\n",
      "upload: train/bicycle_s_002299.png to s3://sagemaker-us-east-1-019193505543/train/bicycle_s_002299.png\n",
      "upload: train/bicycle_s_002222.png to s3://sagemaker-us-east-1-019193505543/train/bicycle_s_002222.png\n",
      "upload: train/bicycle_s_002218.png to s3://sagemaker-us-east-1-019193505543/train/bicycle_s_002218.png\n",
      "upload: train/bicycle_s_002374.png to s3://sagemaker-us-east-1-019193505543/train/bicycle_s_002374.png\n",
      "upload: train/bicycle_s_002247.png to s3://sagemaker-us-east-1-019193505543/train/bicycle_s_002247.png\n",
      "upload: train/bicycle_s_002400.png to s3://sagemaker-us-east-1-019193505543/train/bicycle_s_002400.png\n",
      "upload: train/bicycle_s_002373.png to s3://sagemaker-us-east-1-019193505543/train/bicycle_s_002373.png\n",
      "upload: train/bicycle_s_002436.png to s3://sagemaker-us-east-1-019193505543/train/bicycle_s_002436.png\n",
      "upload: train/bicycle_s_002410.png to s3://sagemaker-us-east-1-019193505543/train/bicycle_s_002410.png\n",
      "upload: train/bicycle_s_002569.png to s3://sagemaker-us-east-1-019193505543/train/bicycle_s_002569.png\n",
      "upload: train/bicycle_s_002448.png to s3://sagemaker-us-east-1-019193505543/train/bicycle_s_002448.png\n",
      "upload: train/bicycle_s_002521.png to s3://sagemaker-us-east-1-019193505543/train/bicycle_s_002521.png\n",
      "upload: train/bicycle_s_002475.png to s3://sagemaker-us-east-1-019193505543/train/bicycle_s_002475.png\n",
      "upload: train/bicycle_s_002550.png to s3://sagemaker-us-east-1-019193505543/train/bicycle_s_002550.png\n",
      "upload: train/bicycle_s_002624.png to s3://sagemaker-us-east-1-019193505543/train/bicycle_s_002624.png\n",
      "upload: train/bicycle_s_002661.png to s3://sagemaker-us-east-1-019193505543/train/bicycle_s_002661.png\n",
      "upload: train/bicycle_s_002711.png to s3://sagemaker-us-east-1-019193505543/train/bicycle_s_002711.png\n",
      "upload: train/bicycle_s_002729.png to s3://sagemaker-us-east-1-019193505543/train/bicycle_s_002729.png\n",
      "upload: train/bicycle_s_002669.png to s3://sagemaker-us-east-1-019193505543/train/bicycle_s_002669.png\n",
      "upload: train/bicycle_s_002715.png to s3://sagemaker-us-east-1-019193505543/train/bicycle_s_002715.png\n",
      "upload: train/bicycle_s_002725.png to s3://sagemaker-us-east-1-019193505543/train/bicycle_s_002725.png\n",
      "upload: train/bicycle_s_002728.png to s3://sagemaker-us-east-1-019193505543/train/bicycle_s_002728.png\n",
      "upload: train/bicycle_s_002762.png to s3://sagemaker-us-east-1-019193505543/train/bicycle_s_002762.png\n",
      "upload: train/bicycle_s_002759.png to s3://sagemaker-us-east-1-019193505543/train/bicycle_s_002759.png\n",
      "upload: train/bike_s_000018.png to s3://sagemaker-us-east-1-019193505543/train/bike_s_000018.png\n",
      "upload: train/bike_s_000003.png to s3://sagemaker-us-east-1-019193505543/train/bike_s_000003.png\n",
      "upload: train/bike_s_000023.png to s3://sagemaker-us-east-1-019193505543/train/bike_s_000023.png\n",
      "upload: train/bike_s_000001.png to s3://sagemaker-us-east-1-019193505543/train/bike_s_000001.png\n",
      "upload: train/bike_s_000024.png to s3://sagemaker-us-east-1-019193505543/train/bike_s_000024.png\n",
      "upload: train/bike_s_000005.png to s3://sagemaker-us-east-1-019193505543/train/bike_s_000005.png\n",
      "upload: train/bike_s_000021.png to s3://sagemaker-us-east-1-019193505543/train/bike_s_000021.png\n",
      "upload: train/bike_s_000025.png to s3://sagemaker-us-east-1-019193505543/train/bike_s_000025.png\n",
      "upload: train/bike_s_000015.png to s3://sagemaker-us-east-1-019193505543/train/bike_s_000015.png\n",
      "upload: train/bike_s_000035.png to s3://sagemaker-us-east-1-019193505543/train/bike_s_000035.png\n",
      "upload: train/bike_s_000034.png to s3://sagemaker-us-east-1-019193505543/train/bike_s_000034.png\n",
      "upload: train/bike_s_000026.png to s3://sagemaker-us-east-1-019193505543/train/bike_s_000026.png\n",
      "upload: train/bike_s_000040.png to s3://sagemaker-us-east-1-019193505543/train/bike_s_000040.png\n",
      "upload: train/bike_s_000051.png to s3://sagemaker-us-east-1-019193505543/train/bike_s_000051.png\n",
      "upload: train/bike_s_000121.png to s3://sagemaker-us-east-1-019193505543/train/bike_s_000121.png\n",
      "upload: train/bike_s_000111.png to s3://sagemaker-us-east-1-019193505543/train/bike_s_000111.png\n",
      "upload: train/bike_s_000127.png to s3://sagemaker-us-east-1-019193505543/train/bike_s_000127.png\n",
      "upload: train/bike_s_000154.png to s3://sagemaker-us-east-1-019193505543/train/bike_s_000154.png\n",
      "upload: train/bike_s_000062.png to s3://sagemaker-us-east-1-019193505543/train/bike_s_000062.png\n",
      "upload: train/bike_s_000204.png to s3://sagemaker-us-east-1-019193505543/train/bike_s_000204.png\n",
      "upload: train/bike_s_000162.png to s3://sagemaker-us-east-1-019193505543/train/bike_s_000162.png\n",
      "upload: train/bike_s_000256.png to s3://sagemaker-us-east-1-019193505543/train/bike_s_000256.png\n",
      "upload: train/bike_s_000129.png to s3://sagemaker-us-east-1-019193505543/train/bike_s_000129.png\n",
      "upload: train/bike_s_000299.png to s3://sagemaker-us-east-1-019193505543/train/bike_s_000299.png\n",
      "upload: train/bike_s_000164.png to s3://sagemaker-us-east-1-019193505543/train/bike_s_000164.png\n",
      "upload: train/bike_s_000302.png to s3://sagemaker-us-east-1-019193505543/train/bike_s_000302.png\n",
      "upload: train/bike_s_000304.png to s3://sagemaker-us-east-1-019193505543/train/bike_s_000304.png\n",
      "upload: train/bike_s_000336.png to s3://sagemaker-us-east-1-019193505543/train/bike_s_000336.png\n",
      "upload: train/bike_s_000237.png to s3://sagemaker-us-east-1-019193505543/train/bike_s_000237.png\n",
      "upload: train/bike_s_000364.png to s3://sagemaker-us-east-1-019193505543/train/bike_s_000364.png\n",
      "upload: train/bike_s_000516.png to s3://sagemaker-us-east-1-019193505543/train/bike_s_000516.png\n",
      "upload: train/bike_s_000392.png to s3://sagemaker-us-east-1-019193505543/train/bike_s_000392.png\n",
      "upload: train/bike_s_000545.png to s3://sagemaker-us-east-1-019193505543/train/bike_s_000545.png\n",
      "upload: train/bike_s_000397.png to s3://sagemaker-us-east-1-019193505543/train/bike_s_000397.png\n",
      "upload: train/bike_s_000474.png to s3://sagemaker-us-east-1-019193505543/train/bike_s_000474.png\n",
      "upload: train/bike_s_000555.png to s3://sagemaker-us-east-1-019193505543/train/bike_s_000555.png\n",
      "upload: train/bike_s_000506.png to s3://sagemaker-us-east-1-019193505543/train/bike_s_000506.png\n",
      "upload: train/bike_s_000544.png to s3://sagemaker-us-east-1-019193505543/train/bike_s_000544.png\n",
      "upload: train/bike_s_000522.png to s3://sagemaker-us-east-1-019193505543/train/bike_s_000522.png\n",
      "upload: train/bike_s_000628.png to s3://sagemaker-us-east-1-019193505543/train/bike_s_000628.png\n",
      "upload: train/bike_s_000593.png to s3://sagemaker-us-east-1-019193505543/train/bike_s_000593.png\n",
      "upload: train/bike_s_000682.png to s3://sagemaker-us-east-1-019193505543/train/bike_s_000682.png\n",
      "upload: train/bike_s_000390.png to s3://sagemaker-us-east-1-019193505543/train/bike_s_000390.png\n",
      "upload: train/bike_s_000679.png to s3://sagemaker-us-east-1-019193505543/train/bike_s_000679.png\n",
      "upload: train/bike_s_000657.png to s3://sagemaker-us-east-1-019193505543/train/bike_s_000657.png\n",
      "upload: train/bike_s_000990.png to s3://sagemaker-us-east-1-019193505543/train/bike_s_000990.png\n",
      "upload: train/bike_s_000934.png to s3://sagemaker-us-east-1-019193505543/train/bike_s_000934.png\n",
      "upload: train/bike_s_001078.png to s3://sagemaker-us-east-1-019193505543/train/bike_s_001078.png\n",
      "upload: train/bike_s_001027.png to s3://sagemaker-us-east-1-019193505543/train/bike_s_001027.png\n",
      "upload: train/bike_s_001093.png to s3://sagemaker-us-east-1-019193505543/train/bike_s_001093.png\n",
      "upload: train/bike_s_001113.png to s3://sagemaker-us-east-1-019193505543/train/bike_s_001113.png\n",
      "upload: train/bike_s_000855.png to s3://sagemaker-us-east-1-019193505543/train/bike_s_000855.png\n",
      "upload: train/bike_s_001116.png to s3://sagemaker-us-east-1-019193505543/train/bike_s_001116.png\n",
      "upload: train/bike_s_001131.png to s3://sagemaker-us-east-1-019193505543/train/bike_s_001131.png\n",
      "upload: train/bike_s_001072.png to s3://sagemaker-us-east-1-019193505543/train/bike_s_001072.png\n",
      "upload: train/bike_s_000722.png to s3://sagemaker-us-east-1-019193505543/train/bike_s_000722.png\n",
      "upload: train/bike_s_001226.png to s3://sagemaker-us-east-1-019193505543/train/bike_s_001226.png\n",
      "upload: train/bike_s_001200.png to s3://sagemaker-us-east-1-019193505543/train/bike_s_001200.png\n",
      "upload: train/bike_s_001375.png to s3://sagemaker-us-east-1-019193505543/train/bike_s_001375.png\n",
      "upload: train/bike_s_001260.png to s3://sagemaker-us-east-1-019193505543/train/bike_s_001260.png\n",
      "upload: train/bike_s_001418.png to s3://sagemaker-us-east-1-019193505543/train/bike_s_001418.png\n",
      "upload: train/bike_s_001517.png to s3://sagemaker-us-east-1-019193505543/train/bike_s_001517.png\n",
      "upload: train/bike_s_001320.png to s3://sagemaker-us-east-1-019193505543/train/bike_s_001320.png\n",
      "upload: train/bike_s_001380.png to s3://sagemaker-us-east-1-019193505543/train/bike_s_001380.png\n",
      "upload: train/bike_s_001462.png to s3://sagemaker-us-east-1-019193505543/train/bike_s_001462.png\n",
      "upload: train/bike_s_001572.png to s3://sagemaker-us-east-1-019193505543/train/bike_s_001572.png\n",
      "upload: train/bike_s_001414.png to s3://sagemaker-us-east-1-019193505543/train/bike_s_001414.png\n",
      "upload: train/bike_s_000926.png to s3://sagemaker-us-east-1-019193505543/train/bike_s_000926.png\n",
      "upload: train/bike_s_001415.png to s3://sagemaker-us-east-1-019193505543/train/bike_s_001415.png\n",
      "upload: train/bike_s_001519.png to s3://sagemaker-us-east-1-019193505543/train/bike_s_001519.png\n",
      "upload: train/bike_s_001592.png to s3://sagemaker-us-east-1-019193505543/train/bike_s_001592.png\n",
      "upload: train/bike_s_001679.png to s3://sagemaker-us-east-1-019193505543/train/bike_s_001679.png\n",
      "upload: train/bike_s_001613.png to s3://sagemaker-us-east-1-019193505543/train/bike_s_001613.png\n",
      "upload: train/bike_s_001761.png to s3://sagemaker-us-east-1-019193505543/train/bike_s_001761.png\n",
      "upload: train/bike_s_001683.png to s3://sagemaker-us-east-1-019193505543/train/bike_s_001683.png\n",
      "upload: train/bike_s_001739.png to s3://sagemaker-us-east-1-019193505543/train/bike_s_001739.png\n",
      "upload: train/bike_s_001767.png to s3://sagemaker-us-east-1-019193505543/train/bike_s_001767.png\n",
      "upload: train/bike_s_001876.png to s3://sagemaker-us-east-1-019193505543/train/bike_s_001876.png\n",
      "upload: train/bike_s_001839.png to s3://sagemaker-us-east-1-019193505543/train/bike_s_001839.png\n",
      "upload: train/bike_s_001827.png to s3://sagemaker-us-east-1-019193505543/train/bike_s_001827.png\n",
      "upload: train/bike_s_001915.png to s3://sagemaker-us-east-1-019193505543/train/bike_s_001915.png\n",
      "upload: train/bike_s_001877.png to s3://sagemaker-us-east-1-019193505543/train/bike_s_001877.png\n",
      "upload: train/bike_s_001945.png to s3://sagemaker-us-east-1-019193505543/train/bike_s_001945.png\n",
      "upload: train/bike_s_002033.png to s3://sagemaker-us-east-1-019193505543/train/bike_s_002033.png\n",
      "upload: train/bike_s_001882.png to s3://sagemaker-us-east-1-019193505543/train/bike_s_001882.png\n",
      "upload: train/bike_s_001980.png to s3://sagemaker-us-east-1-019193505543/train/bike_s_001980.png\n",
      "upload: train/bike_s_001928.png to s3://sagemaker-us-east-1-019193505543/train/bike_s_001928.png\n",
      "upload: train/bike_s_002024.png to s3://sagemaker-us-east-1-019193505543/train/bike_s_002024.png\n",
      "upload: train/bike_s_001897.png to s3://sagemaker-us-east-1-019193505543/train/bike_s_001897.png\n",
      "upload: train/bike_s_001847.png to s3://sagemaker-us-east-1-019193505543/train/bike_s_001847.png\n",
      "upload: train/bike_s_002118.png to s3://sagemaker-us-east-1-019193505543/train/bike_s_002118.png\n",
      "upload: train/bike_s_002047.png to s3://sagemaker-us-east-1-019193505543/train/bike_s_002047.png\n",
      "upload: train/bike_s_002042.png to s3://sagemaker-us-east-1-019193505543/train/bike_s_002042.png\n",
      "upload: train/bike_s_002098.png to s3://sagemaker-us-east-1-019193505543/train/bike_s_002098.png\n",
      "upload: train/bike_s_002109.png to s3://sagemaker-us-east-1-019193505543/train/bike_s_002109.png\n",
      "upload: train/bike_s_002139.png to s3://sagemaker-us-east-1-019193505543/train/bike_s_002139.png\n",
      "upload: train/bike_s_002090.png to s3://sagemaker-us-east-1-019193505543/train/bike_s_002090.png\n",
      "upload: train/bike_s_002203.png to s3://sagemaker-us-east-1-019193505543/train/bike_s_002203.png\n",
      "upload: train/bike_s_002277.png to s3://sagemaker-us-east-1-019193505543/train/bike_s_002277.png\n",
      "upload: train/bike_s_002164.png to s3://sagemaker-us-east-1-019193505543/train/bike_s_002164.png\n",
      "upload: train/bike_s_002288.png to s3://sagemaker-us-east-1-019193505543/train/bike_s_002288.png\n",
      "upload: train/cycle_s_000222.png to s3://sagemaker-us-east-1-019193505543/train/cycle_s_000222.png\n",
      "upload: train/bike_s_002215.png to s3://sagemaker-us-east-1-019193505543/train/bike_s_002215.png\n",
      "upload: train/bike_s_002292.png to s3://sagemaker-us-east-1-019193505543/train/bike_s_002292.png\n",
      "upload: train/cycle_s_000042.png to s3://sagemaker-us-east-1-019193505543/train/cycle_s_000042.png\n",
      "upload: train/cycle_s_000492.png to s3://sagemaker-us-east-1-019193505543/train/cycle_s_000492.png\n",
      "upload: train/cycle_s_000318.png to s3://sagemaker-us-east-1-019193505543/train/cycle_s_000318.png\n",
      "upload: train/bike_s_002283.png to s3://sagemaker-us-east-1-019193505543/train/bike_s_002283.png\n",
      "upload: train/cycle_s_000463.png to s3://sagemaker-us-east-1-019193505543/train/cycle_s_000463.png\n",
      "upload: train/cycle_s_000583.png to s3://sagemaker-us-east-1-019193505543/train/cycle_s_000583.png\n",
      "upload: train/cycle_s_000871.png to s3://sagemaker-us-east-1-019193505543/train/cycle_s_000871.png\n",
      "upload: train/cycle_s_000666.png to s3://sagemaker-us-east-1-019193505543/train/cycle_s_000666.png\n",
      "upload: train/cycle_s_000899.png to s3://sagemaker-us-east-1-019193505543/train/cycle_s_000899.png\n",
      "upload: train/cycle_s_001374.png to s3://sagemaker-us-east-1-019193505543/train/cycle_s_001374.png\n",
      "upload: train/cycle_s_000718.png to s3://sagemaker-us-east-1-019193505543/train/cycle_s_000718.png\n",
      "upload: train/cycle_s_000639.png to s3://sagemaker-us-east-1-019193505543/train/cycle_s_000639.png\n",
      "upload: train/cycle_s_001286.png to s3://sagemaker-us-east-1-019193505543/train/cycle_s_001286.png\n",
      "upload: train/cycle_s_001309.png to s3://sagemaker-us-east-1-019193505543/train/cycle_s_001309.png\n",
      "upload: train/bike_s_002222.png to s3://sagemaker-us-east-1-019193505543/train/bike_s_002222.png\n",
      "upload: train/cycle_s_001439.png to s3://sagemaker-us-east-1-019193505543/train/cycle_s_001439.png\n",
      "upload: train/cycle_s_001472.png to s3://sagemaker-us-east-1-019193505543/train/cycle_s_001472.png\n",
      "upload: train/cycle_s_001412.png to s3://sagemaker-us-east-1-019193505543/train/cycle_s_001412.png\n",
      "upload: train/cycle_s_001640.png to s3://sagemaker-us-east-1-019193505543/train/cycle_s_001640.png\n",
      "upload: train/cycle_s_001735.png to s3://sagemaker-us-east-1-019193505543/train/cycle_s_001735.png\n",
      "upload: train/cycle_s_001474.png to s3://sagemaker-us-east-1-019193505543/train/cycle_s_001474.png\n",
      "upload: train/cycle_s_001745.png to s3://sagemaker-us-east-1-019193505543/train/cycle_s_001745.png\n",
      "upload: train/cycle_s_001477.png to s3://sagemaker-us-east-1-019193505543/train/cycle_s_001477.png\n",
      "upload: train/cycle_s_001413.png to s3://sagemaker-us-east-1-019193505543/train/cycle_s_001413.png\n",
      "upload: train/cycle_s_001976.png to s3://sagemaker-us-east-1-019193505543/train/cycle_s_001976.png\n",
      "upload: train/cycle_s_001875.png to s3://sagemaker-us-east-1-019193505543/train/cycle_s_001875.png\n",
      "upload: train/cycle_s_002090.png to s3://sagemaker-us-east-1-019193505543/train/cycle_s_002090.png\n",
      "upload: train/cycle_s_002053.png to s3://sagemaker-us-east-1-019193505543/train/cycle_s_002053.png\n",
      "upload: train/cycle_s_002015.png to s3://sagemaker-us-east-1-019193505543/train/cycle_s_002015.png\n",
      "upload: train/cycle_s_002092.png to s3://sagemaker-us-east-1-019193505543/train/cycle_s_002092.png\n",
      "upload: train/cycle_s_002093.png to s3://sagemaker-us-east-1-019193505543/train/cycle_s_002093.png\n",
      "upload: train/cycle_s_002178.png to s3://sagemaker-us-east-1-019193505543/train/cycle_s_002178.png\n",
      "upload: train/cycle_s_002168.png to s3://sagemaker-us-east-1-019193505543/train/cycle_s_002168.png\n",
      "upload: train/cycle_s_002399.png to s3://sagemaker-us-east-1-019193505543/train/cycle_s_002399.png\n",
      "upload: train/cycle_s_002503.png to s3://sagemaker-us-east-1-019193505543/train/cycle_s_002503.png\n",
      "upload: train/cycle_s_002651.png to s3://sagemaker-us-east-1-019193505543/train/cycle_s_002651.png\n",
      "upload: train/cycle_s_002598.png to s3://sagemaker-us-east-1-019193505543/train/cycle_s_002598.png\n",
      "upload: train/cycle_s_002638.png to s3://sagemaker-us-east-1-019193505543/train/cycle_s_002638.png\n",
      "upload: train/cycle_s_002703.png to s3://sagemaker-us-east-1-019193505543/train/cycle_s_002703.png\n",
      "upload: train/cycle_s_002746.png to s3://sagemaker-us-east-1-019193505543/train/cycle_s_002746.png\n",
      "upload: train/cycle_s_002779.png to s3://sagemaker-us-east-1-019193505543/train/cycle_s_002779.png\n",
      "upload: train/cycle_s_002659.png to s3://sagemaker-us-east-1-019193505543/train/cycle_s_002659.png\n",
      "upload: train/cycle_s_002882.png to s3://sagemaker-us-east-1-019193505543/train/cycle_s_002882.png\n",
      "upload: train/cycle_s_002666.png to s3://sagemaker-us-east-1-019193505543/train/cycle_s_002666.png\n",
      "upload: train/cycle_s_002844.png to s3://sagemaker-us-east-1-019193505543/train/cycle_s_002844.png\n",
      "upload: train/cycle_s_002904.png to s3://sagemaker-us-east-1-019193505543/train/cycle_s_002904.png\n",
      "upload: train/cycle_s_003026.png to s3://sagemaker-us-east-1-019193505543/train/cycle_s_003026.png\n",
      "upload: train/cycle_s_003043.png to s3://sagemaker-us-east-1-019193505543/train/cycle_s_003043.png\n",
      "upload: train/cycle_s_002978.png to s3://sagemaker-us-east-1-019193505543/train/cycle_s_002978.png\n",
      "upload: train/cycle_s_003006.png to s3://sagemaker-us-east-1-019193505543/train/cycle_s_003006.png\n",
      "upload: train/cycle_s_003008.png to s3://sagemaker-us-east-1-019193505543/train/cycle_s_003008.png\n",
      "upload: train/dirt_bike_s_000003.png to s3://sagemaker-us-east-1-019193505543/train/dirt_bike_s_000003.png\n",
      "upload: train/dirt_bike_s_000017.png to s3://sagemaker-us-east-1-019193505543/train/dirt_bike_s_000017.png\n",
      "upload: train/cycle_s_003122.png to s3://sagemaker-us-east-1-019193505543/train/cycle_s_003122.png\n",
      "upload: train/dirt_bike_s_000059.png to s3://sagemaker-us-east-1-019193505543/train/dirt_bike_s_000059.png\n",
      "upload: train/cycle_s_003148.png to s3://sagemaker-us-east-1-019193505543/train/cycle_s_003148.png\n",
      "upload: train/dirt_bike_s_000030.png to s3://sagemaker-us-east-1-019193505543/train/dirt_bike_s_000030.png\n",
      "upload: train/dirt_bike_s_000005.png to s3://sagemaker-us-east-1-019193505543/train/dirt_bike_s_000005.png\n",
      "upload: train/cycle_s_003162.png to s3://sagemaker-us-east-1-019193505543/train/cycle_s_003162.png\n",
      "upload: train/cycle_s_003147.png to s3://sagemaker-us-east-1-019193505543/train/cycle_s_003147.png\n",
      "upload: train/dirt_bike_s_000134.png to s3://sagemaker-us-east-1-019193505543/train/dirt_bike_s_000134.png\n",
      "upload: train/minibike_s_000010.png to s3://sagemaker-us-east-1-019193505543/train/minibike_s_000010.png\n",
      "upload: train/dirt_bike_s_000124.png to s3://sagemaker-us-east-1-019193505543/train/dirt_bike_s_000124.png\n",
      "upload: train/minibike_s_000036.png to s3://sagemaker-us-east-1-019193505543/train/minibike_s_000036.png\n",
      "upload: train/dirt_bike_s_000119.png to s3://sagemaker-us-east-1-019193505543/train/dirt_bike_s_000119.png\n",
      "upload: train/minibike_s_000020.png to s3://sagemaker-us-east-1-019193505543/train/minibike_s_000020.png\n",
      "upload: train/minibike_s_000064.png to s3://sagemaker-us-east-1-019193505543/train/minibike_s_000064.png\n",
      "upload: train/minibike_s_000011.png to s3://sagemaker-us-east-1-019193505543/train/minibike_s_000011.png\n",
      "upload: train/minibike_s_000035.png to s3://sagemaker-us-east-1-019193505543/train/minibike_s_000035.png\n",
      "upload: train/minibike_s_000108.png to s3://sagemaker-us-east-1-019193505543/train/minibike_s_000108.png\n",
      "upload: train/minibike_s_000102.png to s3://sagemaker-us-east-1-019193505543/train/minibike_s_000102.png\n",
      "upload: train/minibike_s_000110.png to s3://sagemaker-us-east-1-019193505543/train/minibike_s_000110.png\n",
      "upload: train/minibike_s_000117.png to s3://sagemaker-us-east-1-019193505543/train/minibike_s_000117.png\n",
      "upload: train/minibike_s_000099.png to s3://sagemaker-us-east-1-019193505543/train/minibike_s_000099.png\n",
      "upload: train/minibike_s_000130.png to s3://sagemaker-us-east-1-019193505543/train/minibike_s_000130.png\n",
      "upload: train/minibike_s_000116.png to s3://sagemaker-us-east-1-019193505543/train/minibike_s_000116.png\n",
      "upload: train/minibike_s_000127.png to s3://sagemaker-us-east-1-019193505543/train/minibike_s_000127.png\n",
      "upload: train/minibike_s_000121.png to s3://sagemaker-us-east-1-019193505543/train/minibike_s_000121.png\n",
      "upload: train/minibike_s_000022.png to s3://sagemaker-us-east-1-019193505543/train/minibike_s_000022.png\n",
      "upload: train/minibike_s_000146.png to s3://sagemaker-us-east-1-019193505543/train/minibike_s_000146.png\n",
      "upload: train/minibike_s_000165.png to s3://sagemaker-us-east-1-019193505543/train/minibike_s_000165.png\n",
      "upload: train/minibike_s_000218.png to s3://sagemaker-us-east-1-019193505543/train/minibike_s_000218.png\n",
      "upload: train/minibike_s_000335.png to s3://sagemaker-us-east-1-019193505543/train/minibike_s_000335.png\n",
      "upload: train/minibike_s_000149.png to s3://sagemaker-us-east-1-019193505543/train/minibike_s_000149.png\n",
      "upload: train/minibike_s_000314.png to s3://sagemaker-us-east-1-019193505543/train/minibike_s_000314.png\n",
      "upload: train/minibike_s_000324.png to s3://sagemaker-us-east-1-019193505543/train/minibike_s_000324.png\n"
     ]
    }
   ],
   "source": [
    "import os\n",
    "\n",
    "os.environ[\"DEFAULT_S3_BUCKET\"] = bucket\n",
    "!aws s3 sync ./train s3://${DEFAULT_S3_BUCKET}/train/\n",
    "!aws s3 sync ./test s3://${DEFAULT_S3_BUCKET}/test/"
   ]
  },
  {
   "cell_type": "markdown",
   "metadata": {},
   "source": [
    "And that's it! You can check the bucket and verify that the items were uploaded.\n",
    "\n",
    "## Model Training\n",
    "\n",
    "For Image Classification, Sagemaker [also expects metadata](https://docs.aws.amazon.com/sagemaker/latest/dg/image-classification.html) e.g. in the form of TSV files with labels and filepaths. We can generate these using our Pandas DataFrames from earlier:"
   ]
  },
  {
   "cell_type": "code",
   "execution_count": 23,
   "metadata": {},
   "outputs": [],
   "source": [
    "def to_metadata_file(df, prefix):\n",
    "    df[\"s3_path\"] = df[\"filenames\"]\n",
    "    df[\"labels\"] = df[\"labels\"].apply(lambda x: 0 if x==8 else 1)\n",
    "    return df[[\"row\", \"labels\", \"s3_path\"]].to_csv(\n",
    "        f\"{prefix}.lst\", sep=\"\\t\", index=False, header=False\n",
    "    )\n",
    "    \n",
    "to_metadata_file(df_train.copy(), \"train\")\n",
    "to_metadata_file(df_test.copy(), \"test\")"
   ]
  },
  {
   "cell_type": "markdown",
   "metadata": {},
   "source": [
    "We can also upload our manifest files:"
   ]
  },
  {
   "cell_type": "code",
   "execution_count": 24,
   "metadata": {},
   "outputs": [],
   "source": [
    "import boto3\n",
    "\n",
    "# Upload files\n",
    "boto3.Session().resource('s3').Bucket(\n",
    "    bucket).Object('train.lst').upload_file('./train.lst')\n",
    "boto3.Session().resource('s3').Bucket(\n",
    "    bucket).Object('test.lst').upload_file('./test.lst')"
   ]
  },
  {
   "cell_type": "markdown",
   "metadata": {},
   "source": [
    "Using the `bucket` and `region` info we can get the latest prebuilt container to run our training job, and define an output location on our s3 bucket for the model. Use the `image_uris` function from the SageMaker SDK to retrieve the latest `image-classification` image below:"
   ]
  },
  {
   "cell_type": "code",
   "execution_count": 26,
   "metadata": {},
   "outputs": [],
   "source": [
    "# Use the image_uris function to retrieve the latest 'image-classification' image \n",
    "from sagemaker import image_uris\n",
    "\n",
    "algo_image = image_uris.retrieve('image-classification', region)\n",
    "s3_output_location = f\"s3://{bucket}/models/image_model\""
   ]
  },
  {
   "cell_type": "markdown",
   "metadata": {},
   "source": [
    "We're ready to create an estimator! Create an estimator `img_classifier_model` that uses one instance of `ml.p3.2xlarge`. Ensure that y ou use the output location we defined above - we'll be referring to that later!"
   ]
  },
  {
   "cell_type": "code",
   "execution_count": null,
   "metadata": {},
   "outputs": [],
   "source": [
    "img_classifier_model=sagemaker.estimator.Estimator(\n",
    "    ## TODO: define your estimator options    \n",
    ")"
   ]
  },
  {
   "cell_type": "markdown",
   "metadata": {},
   "source": [
    "We can also set a few key hyperparameters and define the inputs for our model:"
   ]
  },
  {
   "cell_type": "code",
   "execution_count": 27,
   "metadata": {},
   "outputs": [],
   "source": [
    "img_classifier_model = sagemaker.estimator.Estimator(\n",
    "    image_uri=algo_image,\n",
    "    role=role,\n",
    "    instance_count=1,\n",
    "    instance_type='ml.p3.2xlarge',\n",
    "    output_path=s3_output_location,\n",
    "    sagemaker_session=sagemaker.Session()\n",
    ")"
   ]
  },
  {
   "cell_type": "code",
   "execution_count": 29,
   "metadata": {},
   "outputs": [],
   "source": [
    "img_classifier_model.set_hyperparameters(\n",
    "    image_shape='3,32,32',\n",
    "    num_classes=2,\n",
    "    num_training_samples=len(df_train)\n",
    ")\n"
   ]
  },
  {
   "cell_type": "markdown",
   "metadata": {},
   "source": [
    "The `image-classification` image uses four input channels with very specific input parameters. For convenience, we've provided them below:"
   ]
  },
  {
   "cell_type": "code",
   "execution_count": 30,
   "metadata": {},
   "outputs": [],
   "source": [
    "from sagemaker.debugger import Rule, rule_configs\n",
    "from sagemaker.session import TrainingInput\n",
    "model_inputs = {\n",
    "        \"train\": sagemaker.inputs.TrainingInput(\n",
    "            s3_data=f\"s3://{bucket}/train/\",\n",
    "            content_type=\"application/x-image\"\n",
    "        ),\n",
    "        \"validation\": sagemaker.inputs.TrainingInput(\n",
    "            s3_data=f\"s3://{bucket}/test/\",\n",
    "            content_type=\"application/x-image\"\n",
    "        ),\n",
    "        \"train_lst\": sagemaker.inputs.TrainingInput(\n",
    "            s3_data=f\"s3://{bucket}/train.lst\",\n",
    "            content_type=\"application/x-image\"\n",
    "        ),\n",
    "        \"validation_lst\": sagemaker.inputs.TrainingInput(\n",
    "            s3_data=f\"s3://{bucket}/test.lst\",\n",
    "            content_type=\"application/x-image\"\n",
    "        )\n",
    "}"
   ]
  },
  {
   "cell_type": "markdown",
   "metadata": {},
   "source": [
    "Great, now we can train the model using the model_inputs. In the cell below, call the `fit` method on our model,:"
   ]
  },
  {
   "cell_type": "code",
   "execution_count": 31,
   "metadata": {},
   "outputs": [
    {
     "name": "stderr",
     "output_type": "stream",
     "text": [
      "INFO:sagemaker:Creating training-job with name: image-classification-2024-08-05-16-29-44-263\n"
     ]
    },
    {
     "name": "stdout",
     "output_type": "stream",
     "text": [
      "2024-08-05 16:29:44 Starting - Starting the training job\n",
      "2024-08-05 16:29:44 Pending - Training job waiting for capacity..................\n",
      "2024-08-05 16:32:32 Pending - Preparing the instances for training...\n",
      "2024-08-05 16:33:14 Downloading - Downloading input data...\n",
      "2024-08-05 16:33:34 Downloading - Downloading the training image........................\n",
      "2024-08-05 16:37:43 Training - Training image download completed. Training in progress....\u001b[34mDocker entrypoint called with argument(s): train\u001b[0m\n",
      "\u001b[34mRunning default environment configuration script\u001b[0m\n",
      "\u001b[34mNvidia gpu devices, drivers and cuda toolkit versions (only available on hosts with GPU):\u001b[0m\n",
      "\u001b[34mMon Aug  5 16:38:10 2024       \u001b[0m\n",
      "\u001b[34m+---------------------------------------------------------------------------------------+\u001b[0m\n",
      "\u001b[34m| NVIDIA-SMI 535.183.01             Driver Version: 535.183.01   CUDA Version: 12.2     |\u001b[0m\n",
      "\u001b[34m|-----------------------------------------+----------------------+----------------------+\u001b[0m\n",
      "\u001b[34m| GPU  Name                 Persistence-M | Bus-Id        Disp.A | Volatile Uncorr. ECC |\u001b[0m\n",
      "\u001b[34m| Fan  Temp   Perf          Pwr:Usage/Cap |         Memory-Usage | GPU-Util  Compute M. |\u001b[0m\n",
      "\u001b[34m|                                         |                      |               MIG M. |\u001b[0m\n",
      "\u001b[34m|=========================================+======================+======================|\u001b[0m\n",
      "\u001b[34m|   0  Tesla V100-SXM2-16GB           On  | 00000000:00:1E.0 Off |                    0 |\u001b[0m\n",
      "\u001b[34m| N/A   39C    P0              27W / 300W |      0MiB / 16384MiB |      0%      Default |\u001b[0m\n",
      "\u001b[34m|                                         |                      |                  N/A |\u001b[0m\n",
      "\u001b[34m+-----------------------------------------+----------------------+----------------------+\n",
      "                                                                                         \u001b[0m\n",
      "\u001b[34m+---------------------------------------------------------------------------------------+\u001b[0m\n",
      "\u001b[34m| Processes:                                                                            |\u001b[0m\n",
      "\u001b[34m|  GPU   GI   CI        PID   Type   Process name                            GPU Memory |\u001b[0m\n",
      "\u001b[34m|        ID   ID                                                             Usage      |\u001b[0m\n",
      "\u001b[34m|=======================================================================================|\u001b[0m\n",
      "\u001b[34m|  No running processes found                                                           |\u001b[0m\n",
      "\u001b[34m+---------------------------------------------------------------------------------------+\u001b[0m\n",
      "\u001b[34mChecking for nvidia driver and cuda compatibility.\u001b[0m\n",
      "\u001b[34mCUDA Compatibility driver provided.\u001b[0m\n",
      "\u001b[34mProceeding with compatibility check between driver, cuda-toolkit and cuda-compat.\u001b[0m\n",
      "\u001b[34mDetected cuda-toolkit version: 11.1.\u001b[0m\n",
      "\u001b[34mDetected cuda-compat version: 455.32.00.\u001b[0m\n",
      "\u001b[34mDetected Nvidia driver version: 535.183.01.\u001b[0m\n",
      "\u001b[34mNvidia driver compatible with cuda-toolkit. Disabling cuda-compat.\u001b[0m\n",
      "\u001b[34m/opt/amazon/lib/python3.8/site-packages/mxnet/model.py:97: SyntaxWarning: \"is\" with a literal. Did you mean \"==\"?\n",
      "  if num_device is 1 and 'dist' not in kvstore:\u001b[0m\n",
      "\u001b[34m[08/05/2024 16:38:13 INFO 140592263825216] Reading default configuration from /opt/amazon/lib/python3.8/site-packages/image_classification/default-input.json: {'use_pretrained_model': 0, 'num_layers': 152, 'epochs': 30, 'learning_rate': 0.1, 'lr_scheduler_factor': 0.1, 'optimizer': 'sgd', 'momentum': 0, 'weight_decay': 0.0001, 'beta_1': 0.9, 'beta_2': 0.999, 'eps': 1e-08, 'gamma': 0.9, 'mini_batch_size': 32, 'image_shape': '3,224,224', 'precision_dtype': 'float32'}\u001b[0m\n",
      "\u001b[34m[08/05/2024 16:38:13 INFO 140592263825216] Merging with provided configuration from /opt/ml/input/config/hyperparameters.json: {'image_shape': '3,32,32', 'num_classes': '2', 'num_training_samples': '1000'}\u001b[0m\n",
      "\u001b[34m[08/05/2024 16:38:13 INFO 140592263825216] Final configuration: {'use_pretrained_model': 0, 'num_layers': 152, 'epochs': 30, 'learning_rate': 0.1, 'lr_scheduler_factor': 0.1, 'optimizer': 'sgd', 'momentum': 0, 'weight_decay': 0.0001, 'beta_1': 0.9, 'beta_2': 0.999, 'eps': 1e-08, 'gamma': 0.9, 'mini_batch_size': 32, 'image_shape': '3,32,32', 'precision_dtype': 'float32', 'num_classes': '2', 'num_training_samples': '1000'}\u001b[0m\n",
      "\u001b[34m[08/05/2024 16:38:13 INFO 140592263825216] Searching for .lst files in /opt/ml/input/data/train_lst.\u001b[0m\n",
      "\u001b[34m[08/05/2024 16:38:13 INFO 140592263825216] Creating record files for train.lst\u001b[0m\n",
      "\u001b[34m[08/05/2024 16:38:13 INFO 140592263825216] Done creating record files...\u001b[0m\n",
      "\u001b[34m[08/05/2024 16:38:13 INFO 140592263825216] Searching for .lst files in /opt/ml/input/data/validation_lst.\u001b[0m\n",
      "\u001b[34m[08/05/2024 16:38:13 INFO 140592263825216] Creating record files for test.lst\u001b[0m\n",
      "\u001b[34m[08/05/2024 16:38:13 INFO 140592263825216] Done creating record files...\u001b[0m\n",
      "\u001b[34m[08/05/2024 16:38:13 INFO 140592263825216] use_pretrained_model: 0\u001b[0m\n",
      "\u001b[34m[08/05/2024 16:38:13 INFO 140592263825216] multi_label: 0\u001b[0m\n",
      "\u001b[34m[08/05/2024 16:38:13 INFO 140592263825216] Performing random weight initialization\u001b[0m\n",
      "\u001b[34m[08/05/2024 16:38:13 INFO 140592263825216] ---- Parameters ----\u001b[0m\n",
      "\u001b[34m[08/05/2024 16:38:13 INFO 140592263825216] num_layers: 152\u001b[0m\n",
      "\u001b[34m[08/05/2024 16:38:13 INFO 140592263825216] data type: <class 'numpy.float32'>\u001b[0m\n",
      "\u001b[34m[08/05/2024 16:38:13 INFO 140592263825216] epochs: 30\u001b[0m\n",
      "\u001b[34m[08/05/2024 16:38:13 INFO 140592263825216] optimizer: sgd\u001b[0m\n",
      "\u001b[34m[08/05/2024 16:38:13 INFO 140592263825216] momentum: 0.9\u001b[0m\n",
      "\u001b[34m[08/05/2024 16:38:13 INFO 140592263825216] weight_decay: 0.0001\u001b[0m\n",
      "\u001b[34m[08/05/2024 16:38:13 INFO 140592263825216] learning_rate: 0.1\u001b[0m\n",
      "\u001b[34m[08/05/2024 16:38:13 INFO 140592263825216] num_training_samples: 1000\u001b[0m\n",
      "\u001b[34m[08/05/2024 16:38:13 INFO 140592263825216] mini_batch_size: 32\u001b[0m\n",
      "\u001b[34m[08/05/2024 16:38:13 INFO 140592263825216] image_shape: 3,32,32\u001b[0m\n",
      "\u001b[34m[08/05/2024 16:38:13 INFO 140592263825216] num_classes: 2\u001b[0m\n",
      "\u001b[34m[08/05/2024 16:38:13 INFO 140592263825216] augmentation_type: None\u001b[0m\n",
      "\u001b[34m[08/05/2024 16:38:13 INFO 140592263825216] kv_store: device\u001b[0m\n",
      "\u001b[34m[08/05/2024 16:38:13 INFO 140592263825216] checkpoint_frequency not set, will store the best model\u001b[0m\n",
      "\u001b[34m[08/05/2024 16:38:13 INFO 140592263825216] --------------------\u001b[0m\n",
      "\u001b[34m/opt/amazon/python3.8/lib/python3.8/subprocess.py:848: RuntimeWarning: line buffering (buffering=1) isn't supported in binary mode, the default buffer size will be used\n",
      "  self.stdout = io.open(c2pread, 'rb', bufsize)\u001b[0m\n",
      "\u001b[34m[08/05/2024 16:38:14 INFO 140592263825216] Setting number of threads: 7\u001b[0m\n",
      "\u001b[34m[16:38:18] /opt/brazil-pkg-cache/packages/AIAlgorithmsMXNet/AIAlgorithmsMXNet-1.4.x_ecl_Cuda_11.1.x.379.0/AL2_x86_64/generic-flavor/src/src/operator/nn/./cudnn/./cudnn_algoreg-inl.h:97: Running performance tests to find the best convolution algorithm, this can take a while... (setting env variable MXNET_CUDNN_AUTOTUNE_DEFAULT to 0 to disable)\u001b[0m\n",
      "\u001b[34m[08/05/2024 16:38:23 INFO 140592263825216] Epoch[0] Batch [20]#011Speed: 121.425 samples/sec#011accuracy=0.584821\u001b[0m\n",
      "\u001b[34m[08/05/2024 16:38:25 INFO 140592263825216] Epoch[0] Train-accuracy=0.625000\u001b[0m\n",
      "\u001b[34m[08/05/2024 16:38:25 INFO 140592263825216] Epoch[0] Time cost=6.934\u001b[0m\n",
      "\u001b[34m[08/05/2024 16:38:25 INFO 140592263825216] Epoch[0] Validation-accuracy=0.505208\u001b[0m\n",
      "\u001b[34m[08/05/2024 16:38:25 INFO 140592263825216] Storing the best model with validation accuracy: 0.505208\u001b[0m\n",
      "\u001b[34m[08/05/2024 16:38:26 INFO 140592263825216] Saved checkpoint to \"/opt/ml/model/image-classification-0001.params\"\u001b[0m\n",
      "\u001b[34m[08/05/2024 16:38:29 INFO 140592263825216] Epoch[1] Batch [20]#011Speed: 185.655 samples/sec#011accuracy=0.688988\u001b[0m\n",
      "\u001b[34m[08/05/2024 16:38:31 INFO 140592263825216] Epoch[1] Train-accuracy=0.691532\u001b[0m\n",
      "\u001b[34m[08/05/2024 16:38:31 INFO 140592263825216] Epoch[1] Time cost=5.099\u001b[0m\n",
      "\u001b[34m[08/05/2024 16:38:31 INFO 140592263825216] Epoch[1] Validation-accuracy=0.500000\u001b[0m\n",
      "\u001b[34m[08/05/2024 16:38:35 INFO 140592263825216] Epoch[2] Batch [20]#011Speed: 190.029 samples/sec#011accuracy=0.694940\u001b[0m\n",
      "\u001b[34m[08/05/2024 16:38:37 INFO 140592263825216] Epoch[2] Train-accuracy=0.711694\u001b[0m\n",
      "\u001b[34m[08/05/2024 16:38:37 INFO 140592263825216] Epoch[2] Time cost=5.020\u001b[0m\n",
      "\u001b[34m[08/05/2024 16:38:37 INFO 140592263825216] Epoch[2] Validation-accuracy=0.822917\u001b[0m\n",
      "\u001b[34m[08/05/2024 16:38:38 INFO 140592263825216] Storing the best model with validation accuracy: 0.822917\u001b[0m\n",
      "\u001b[34m[08/05/2024 16:38:38 INFO 140592263825216] Saved checkpoint to \"/opt/ml/model/image-classification-0003.params\"\u001b[0m\n",
      "\u001b[34m[08/05/2024 16:38:41 INFO 140592263825216] Epoch[3] Batch [20]#011Speed: 188.897 samples/sec#011accuracy=0.754464\u001b[0m\n",
      "\u001b[34m[08/05/2024 16:38:43 INFO 140592263825216] Epoch[3] Train-accuracy=0.761089\u001b[0m\n",
      "\u001b[34m[08/05/2024 16:38:43 INFO 140592263825216] Epoch[3] Time cost=5.029\u001b[0m\n",
      "\u001b[34m[08/05/2024 16:38:44 INFO 140592263825216] Epoch[3] Validation-accuracy=0.825893\u001b[0m\n",
      "\u001b[34m[08/05/2024 16:38:44 INFO 140592263825216] Storing the best model with validation accuracy: 0.825893\u001b[0m\n",
      "\u001b[34m[08/05/2024 16:38:44 INFO 140592263825216] Saved checkpoint to \"/opt/ml/model/image-classification-0004.params\"\u001b[0m\n",
      "\u001b[34m[08/05/2024 16:38:48 INFO 140592263825216] Epoch[4] Batch [20]#011Speed: 188.017 samples/sec#011accuracy=0.775298\u001b[0m\n",
      "\u001b[34m[08/05/2024 16:38:49 INFO 140592263825216] Epoch[4] Train-accuracy=0.782258\u001b[0m\n",
      "\u001b[34m[08/05/2024 16:38:49 INFO 140592263825216] Epoch[4] Time cost=5.068\u001b[0m\n",
      "\u001b[34m[08/05/2024 16:38:50 INFO 140592263825216] Epoch[4] Validation-accuracy=0.817708\u001b[0m\n",
      "\u001b[34m[08/05/2024 16:38:54 INFO 140592263825216] Epoch[5] Batch [20]#011Speed: 188.307 samples/sec#011accuracy=0.821429\u001b[0m\n",
      "\u001b[34m[08/05/2024 16:38:55 INFO 140592263825216] Epoch[5] Train-accuracy=0.800403\u001b[0m\n",
      "\u001b[34m[08/05/2024 16:38:55 INFO 140592263825216] Epoch[5] Time cost=5.045\u001b[0m\n",
      "\u001b[34m[08/05/2024 16:38:56 INFO 140592263825216] Epoch[5] Validation-accuracy=0.671875\u001b[0m\n",
      "\u001b[34m[08/05/2024 16:39:00 INFO 140592263825216] Epoch[6] Batch [20]#011Speed: 189.711 samples/sec#011accuracy=0.811012\u001b[0m\n",
      "\u001b[34m[08/05/2024 16:39:01 INFO 140592263825216] Epoch[6] Train-accuracy=0.809476\u001b[0m\n",
      "\u001b[34m[08/05/2024 16:39:01 INFO 140592263825216] Epoch[6] Time cost=5.041\u001b[0m\n",
      "\u001b[34m[08/05/2024 16:39:02 INFO 140592263825216] Epoch[6] Validation-accuracy=0.776042\u001b[0m\n",
      "\u001b[34m[08/05/2024 16:39:06 INFO 140592263825216] Epoch[7] Batch [20]#011Speed: 187.502 samples/sec#011accuracy=0.811012\u001b[0m\n",
      "\u001b[34m[08/05/2024 16:39:07 INFO 140592263825216] Epoch[7] Train-accuracy=0.806452\u001b[0m\n",
      "\u001b[34m[08/05/2024 16:39:07 INFO 140592263825216] Epoch[7] Time cost=5.064\u001b[0m\n",
      "\u001b[34m[08/05/2024 16:39:08 INFO 140592263825216] Epoch[7] Validation-accuracy=0.691964\u001b[0m\n",
      "\u001b[34m[08/05/2024 16:39:12 INFO 140592263825216] Epoch[8] Batch [20]#011Speed: 188.619 samples/sec#011accuracy=0.836310\u001b[0m\n",
      "\u001b[34m[08/05/2024 16:39:13 INFO 140592263825216] Epoch[8] Train-accuracy=0.829637\u001b[0m\n",
      "\u001b[34m[08/05/2024 16:39:13 INFO 140592263825216] Epoch[8] Time cost=5.052\u001b[0m\n",
      "\u001b[34m[08/05/2024 16:39:14 INFO 140592263825216] Epoch[8] Validation-accuracy=0.822917\u001b[0m\n",
      "\u001b[34m[08/05/2024 16:39:18 INFO 140592263825216] Epoch[9] Batch [20]#011Speed: 189.714 samples/sec#011accuracy=0.840774\u001b[0m\n",
      "\u001b[34m[08/05/2024 16:39:19 INFO 140592263825216] Epoch[9] Train-accuracy=0.840726\u001b[0m\n",
      "\u001b[34m[08/05/2024 16:39:19 INFO 140592263825216] Epoch[9] Time cost=5.043\u001b[0m\n",
      "\u001b[34m[08/05/2024 16:39:20 INFO 140592263825216] Epoch[9] Validation-accuracy=0.822917\u001b[0m\n",
      "\u001b[34m[08/05/2024 16:39:24 INFO 140592263825216] Epoch[10] Batch [20]#011Speed: 191.778 samples/sec#011accuracy=0.863095\u001b[0m\n",
      "\u001b[34m[08/05/2024 16:39:25 INFO 140592263825216] Epoch[10] Train-accuracy=0.862903\u001b[0m\n",
      "\u001b[34m[08/05/2024 16:39:25 INFO 140592263825216] Epoch[10] Time cost=4.988\u001b[0m\n",
      "\u001b[34m[08/05/2024 16:39:26 INFO 140592263825216] Epoch[10] Validation-accuracy=0.791667\u001b[0m\n",
      "\u001b[34m[08/05/2024 16:39:30 INFO 140592263825216] Epoch[11] Batch [20]#011Speed: 187.843 samples/sec#011accuracy=0.860119\u001b[0m\n",
      "\u001b[34m[08/05/2024 16:39:31 INFO 140592263825216] Epoch[11] Train-accuracy=0.855847\u001b[0m\n",
      "\u001b[34m[08/05/2024 16:39:31 INFO 140592263825216] Epoch[11] Time cost=5.086\u001b[0m\n",
      "\u001b[34m[08/05/2024 16:39:32 INFO 140592263825216] Epoch[11] Validation-accuracy=0.848214\u001b[0m\n",
      "\u001b[34m[08/05/2024 16:39:32 INFO 140592263825216] Storing the best model with validation accuracy: 0.848214\u001b[0m\n",
      "\u001b[34m[08/05/2024 16:39:33 INFO 140592263825216] Saved checkpoint to \"/opt/ml/model/image-classification-0012.params\"\u001b[0m\n",
      "\u001b[34m[08/05/2024 16:39:36 INFO 140592263825216] Epoch[12] Batch [20]#011Speed: 189.084 samples/sec#011accuracy=0.883929\u001b[0m\n",
      "\u001b[34m[08/05/2024 16:39:38 INFO 140592263825216] Epoch[12] Train-accuracy=0.882056\u001b[0m\n",
      "\u001b[34m[08/05/2024 16:39:38 INFO 140592263825216] Epoch[12] Time cost=5.054\u001b[0m\n",
      "\u001b[34m[08/05/2024 16:39:38 INFO 140592263825216] Epoch[12] Validation-accuracy=0.843750\u001b[0m\n",
      "\u001b[34m[08/05/2024 16:39:42 INFO 140592263825216] Epoch[13] Batch [20]#011Speed: 189.127 samples/sec#011accuracy=0.869048\u001b[0m\n",
      "\u001b[34m[08/05/2024 16:39:44 INFO 140592263825216] Epoch[13] Train-accuracy=0.879032\u001b[0m\n",
      "\u001b[34m[08/05/2024 16:39:44 INFO 140592263825216] Epoch[13] Time cost=5.036\u001b[0m\n",
      "\u001b[34m[08/05/2024 16:39:44 INFO 140592263825216] Epoch[13] Validation-accuracy=0.828125\u001b[0m\n",
      "\u001b[34m[08/05/2024 16:39:48 INFO 140592263825216] Epoch[14] Batch [20]#011Speed: 191.039 samples/sec#011accuracy=0.913690\u001b[0m\n",
      "\u001b[34m[08/05/2024 16:39:49 INFO 140592263825216] Epoch[14] Train-accuracy=0.909274\u001b[0m\n",
      "\u001b[34m[08/05/2024 16:39:49 INFO 140592263825216] Epoch[14] Time cost=4.991\u001b[0m\n",
      "\u001b[34m[08/05/2024 16:39:50 INFO 140592263825216] Epoch[14] Validation-accuracy=0.822917\u001b[0m\n",
      "\u001b[34m[08/05/2024 16:39:54 INFO 140592263825216] Epoch[15] Batch [20]#011Speed: 190.371 samples/sec#011accuracy=0.898810\u001b[0m\n",
      "\u001b[34m[08/05/2024 16:39:55 INFO 140592263825216] Epoch[15] Train-accuracy=0.885081\u001b[0m\n",
      "\u001b[34m[08/05/2024 16:39:55 INFO 140592263825216] Epoch[15] Time cost=5.019\u001b[0m\n",
      "\u001b[34m[08/05/2024 16:39:56 INFO 140592263825216] Epoch[15] Validation-accuracy=0.754464\u001b[0m\n",
      "\u001b[34m[08/05/2024 16:40:00 INFO 140592263825216] Epoch[16] Batch [20]#011Speed: 189.478 samples/sec#011accuracy=0.916667\u001b[0m\n",
      "\u001b[34m[08/05/2024 16:40:02 INFO 140592263825216] Epoch[16] Train-accuracy=0.895161\u001b[0m\n",
      "\u001b[34m[08/05/2024 16:40:02 INFO 140592263825216] Epoch[16] Time cost=5.055\u001b[0m\n",
      "\u001b[34m[08/05/2024 16:40:02 INFO 140592263825216] Epoch[16] Validation-accuracy=0.786458\u001b[0m\n",
      "\u001b[34m[08/05/2024 16:40:06 INFO 140592263825216] Epoch[17] Batch [20]#011Speed: 186.188 samples/sec#011accuracy=0.931548\u001b[0m\n",
      "\u001b[34m[08/05/2024 16:40:08 INFO 140592263825216] Epoch[17] Train-accuracy=0.921371\u001b[0m\n",
      "\u001b[34m[08/05/2024 16:40:08 INFO 140592263825216] Epoch[17] Time cost=5.078\u001b[0m\n",
      "\u001b[34m[08/05/2024 16:40:08 INFO 140592263825216] Epoch[17] Validation-accuracy=0.864583\u001b[0m\n",
      "\u001b[34m[08/05/2024 16:40:08 INFO 140592263825216] Storing the best model with validation accuracy: 0.864583\u001b[0m\n",
      "\u001b[34m[08/05/2024 16:40:09 INFO 140592263825216] Saved checkpoint to \"/opt/ml/model/image-classification-0018.params\"\u001b[0m\n",
      "\u001b[34m[08/05/2024 16:40:12 INFO 140592263825216] Epoch[18] Batch [20]#011Speed: 190.378 samples/sec#011accuracy=0.875000\u001b[0m\n",
      "\u001b[34m[08/05/2024 16:40:14 INFO 140592263825216] Epoch[18] Train-accuracy=0.886089\u001b[0m\n",
      "\u001b[34m[08/05/2024 16:40:14 INFO 140592263825216] Epoch[18] Time cost=5.024\u001b[0m\n",
      "\u001b[34m[08/05/2024 16:40:14 INFO 140592263825216] Epoch[18] Validation-accuracy=0.843750\u001b[0m\n",
      "\u001b[34m[08/05/2024 16:40:18 INFO 140592263825216] Epoch[19] Batch [20]#011Speed: 189.885 samples/sec#011accuracy=0.922619\u001b[0m\n",
      "\u001b[34m[08/05/2024 16:40:20 INFO 140592263825216] Epoch[19] Train-accuracy=0.926411\u001b[0m\n",
      "\u001b[34m[08/05/2024 16:40:20 INFO 140592263825216] Epoch[19] Time cost=5.005\u001b[0m\n",
      "\u001b[34m[08/05/2024 16:40:20 INFO 140592263825216] Epoch[19] Validation-accuracy=0.785714\u001b[0m\n",
      "\u001b[34m[08/05/2024 16:40:24 INFO 140592263825216] Epoch[20] Batch [20]#011Speed: 188.756 samples/sec#011accuracy=0.946429\u001b[0m\n",
      "\u001b[34m[08/05/2024 16:40:26 INFO 140592263825216] Epoch[20] Train-accuracy=0.939516\u001b[0m\n",
      "\u001b[34m[08/05/2024 16:40:26 INFO 140592263825216] Epoch[20] Time cost=5.035\u001b[0m\n",
      "\u001b[34m[08/05/2024 16:40:26 INFO 140592263825216] Epoch[20] Validation-accuracy=0.791667\u001b[0m\n",
      "\u001b[34m[08/05/2024 16:40:30 INFO 140592263825216] Epoch[21] Batch [20]#011Speed: 190.212 samples/sec#011accuracy=0.916667\u001b[0m\n",
      "\u001b[34m[08/05/2024 16:40:32 INFO 140592263825216] Epoch[21] Train-accuracy=0.926411\u001b[0m\n",
      "\u001b[34m[08/05/2024 16:40:32 INFO 140592263825216] Epoch[21] Time cost=5.007\u001b[0m\n",
      "\u001b[34m[08/05/2024 16:40:32 INFO 140592263825216] Epoch[21] Validation-accuracy=0.833333\u001b[0m\n",
      "\u001b[34m[08/05/2024 16:40:36 INFO 140592263825216] Epoch[22] Batch [20]#011Speed: 189.604 samples/sec#011accuracy=0.958333\u001b[0m\n",
      "\u001b[34m[08/05/2024 16:40:38 INFO 140592263825216] Epoch[22] Train-accuracy=0.948589\u001b[0m\n",
      "\u001b[34m[08/05/2024 16:40:38 INFO 140592263825216] Epoch[22] Time cost=5.014\u001b[0m\n",
      "\u001b[34m[08/05/2024 16:40:38 INFO 140592263825216] Epoch[22] Validation-accuracy=0.822917\u001b[0m\n",
      "\u001b[34m[08/05/2024 16:40:42 INFO 140592263825216] Epoch[23] Batch [20]#011Speed: 190.106 samples/sec#011accuracy=0.947917\u001b[0m\n",
      "\u001b[34m[08/05/2024 16:40:44 INFO 140592263825216] Epoch[23] Train-accuracy=0.941532\u001b[0m\n",
      "\u001b[34m[08/05/2024 16:40:44 INFO 140592263825216] Epoch[23] Time cost=5.016\u001b[0m\n",
      "\u001b[34m[08/05/2024 16:40:44 INFO 140592263825216] Epoch[23] Validation-accuracy=0.839286\u001b[0m\n",
      "\u001b[34m[08/05/2024 16:40:48 INFO 140592263825216] Epoch[24] Batch [20]#011Speed: 190.950 samples/sec#011accuracy=0.940476\u001b[0m\n",
      "\u001b[34m[08/05/2024 16:40:50 INFO 140592263825216] Epoch[24] Train-accuracy=0.950605\u001b[0m\n",
      "\u001b[34m[08/05/2024 16:40:50 INFO 140592263825216] Epoch[24] Time cost=5.009\u001b[0m\n",
      "\u001b[34m[08/05/2024 16:40:50 INFO 140592263825216] Epoch[24] Validation-accuracy=0.848958\u001b[0m\n",
      "\u001b[34m[08/05/2024 16:40:54 INFO 140592263825216] Epoch[25] Batch [20]#011Speed: 190.714 samples/sec#011accuracy=0.952381\u001b[0m\n",
      "\u001b[34m[08/05/2024 16:40:56 INFO 140592263825216] Epoch[25] Train-accuracy=0.952621\u001b[0m\n",
      "\u001b[34m[08/05/2024 16:40:56 INFO 140592263825216] Epoch[25] Time cost=5.007\u001b[0m\n",
      "\u001b[34m[08/05/2024 16:40:56 INFO 140592263825216] Epoch[25] Validation-accuracy=0.807292\u001b[0m\n",
      "\u001b[34m[08/05/2024 16:41:00 INFO 140592263825216] Epoch[26] Batch [20]#011Speed: 190.221 samples/sec#011accuracy=0.931548\u001b[0m\n",
      "\u001b[34m[08/05/2024 16:41:02 INFO 140592263825216] Epoch[26] Train-accuracy=0.941532\u001b[0m\n",
      "\u001b[34m[08/05/2024 16:41:02 INFO 140592263825216] Epoch[26] Time cost=5.021\u001b[0m\n",
      "\u001b[34m[08/05/2024 16:41:02 INFO 140592263825216] Epoch[26] Validation-accuracy=0.812500\u001b[0m\n",
      "\u001b[34m[08/05/2024 16:41:06 INFO 140592263825216] Epoch[27] Batch [20]#011Speed: 188.406 samples/sec#011accuracy=0.989583\u001b[0m\n",
      "\u001b[34m[08/05/2024 16:41:08 INFO 140592263825216] Epoch[27] Train-accuracy=0.989919\u001b[0m\n",
      "\u001b[34m[08/05/2024 16:41:08 INFO 140592263825216] Epoch[27] Time cost=5.061\u001b[0m\n",
      "\u001b[34m[08/05/2024 16:41:08 INFO 140592263825216] Epoch[27] Validation-accuracy=0.839286\u001b[0m\n",
      "\u001b[34m[08/05/2024 16:41:12 INFO 140592263825216] Epoch[28] Batch [20]#011Speed: 189.997 samples/sec#011accuracy=0.991071\u001b[0m\n",
      "\u001b[34m[08/05/2024 16:41:14 INFO 140592263825216] Epoch[28] Train-accuracy=0.983871\u001b[0m\n",
      "\u001b[34m[08/05/2024 16:41:14 INFO 140592263825216] Epoch[28] Time cost=5.037\u001b[0m\n",
      "\u001b[34m[08/05/2024 16:41:14 INFO 140592263825216] Epoch[28] Validation-accuracy=0.828125\u001b[0m\n",
      "\u001b[34m[08/05/2024 16:41:18 INFO 140592263825216] Epoch[29] Batch [20]#011Speed: 189.244 samples/sec#011accuracy=0.964286\u001b[0m\n",
      "\u001b[34m[08/05/2024 16:41:20 INFO 140592263825216] Epoch[29] Train-accuracy=0.956653\u001b[0m\n",
      "\u001b[34m[08/05/2024 16:41:20 INFO 140592263825216] Epoch[29] Time cost=5.030\u001b[0m\n",
      "\u001b[34m[08/05/2024 16:41:20 INFO 140592263825216] Epoch[29] Validation-accuracy=0.854167\u001b[0m\n",
      "\n",
      "2024-08-05 16:41:42 Uploading - Uploading generated training model\n",
      "2024-08-05 16:41:42 Completed - Training job completed\n",
      "Training seconds: 509\n",
      "Billable seconds: 509\n"
     ]
    }
   ],
   "source": [
    "img_classifier_model.fit(inputs=model_inputs)"
   ]
  },
  {
   "cell_type": "markdown",
   "metadata": {},
   "source": [
    "If all goes well, you'll end up with a model topping out above `.8` validation accuracy. With only 1000 training samples in the CIFAR dataset, that's pretty good. We could definitely pursue data augmentation & gathering more samples to help us improve further, but for now let's proceed to deploy our model.\n",
    "\n",
    "### Getting ready to deploy\n",
    "\n",
    "To begin with, let's configure Model Monitor to track our deployment. We'll define a `DataCaptureConfig` below:"
   ]
  },
  {
   "cell_type": "code",
   "execution_count": 32,
   "metadata": {},
   "outputs": [],
   "source": [
    "from sagemaker.model_monitor import DataCaptureConfig\n",
    "\n",
    "data_capture_config = DataCaptureConfig(\n",
    "    enable_capture=True,\n",
    "    sampling_percentage=100,\n",
    "    destination_s3_uri=f\"s3://{bucket}/data_capture\"\n",
    ")"
   ]
  },
  {
   "cell_type": "markdown",
   "metadata": {},
   "source": [
    "Note the `destination_s3_uri` parameter: At the end of the project, we can explore the `data_capture` directory in S3 to find crucial data about the inputs and outputs Model Monitor has observed on our model endpoint over time.\n",
    "\n",
    "With that done, deploy your model on a single `ml.m5.xlarge` instance with the data capture config attached:"
   ]
  },
  {
   "cell_type": "code",
   "execution_count": 33,
   "metadata": {},
   "outputs": [
    {
     "name": "stderr",
     "output_type": "stream",
     "text": [
      "INFO:sagemaker:Creating model with name: image-classification-2024-08-05-16-42-03-402\n",
      "INFO:sagemaker:Creating endpoint-config with name image-classification-2024-08-05-16-42-03-402\n",
      "INFO:sagemaker:Creating endpoint with name image-classification-2024-08-05-16-42-03-402\n"
     ]
    },
    {
     "name": "stdout",
     "output_type": "stream",
     "text": [
      "---------!image-classification-2024-08-05-16-42-03-402\n"
     ]
    }
   ],
   "source": [
    "deployment = img_classifier_model.deploy(\n",
    "    initial_instance_count=1,\n",
    "    instance_type='ml.m5.xlarge',\n",
    "    data_capture_config=data_capture_config\n",
    ")\n",
    "\n",
    "endpoint = deployment.endpoint_name\n",
    "print(endpoint)"
   ]
  },
  {
   "cell_type": "markdown",
   "metadata": {},
   "source": [
    "Note the endpoint name for later as well.\n",
    "\n",
    "Next, instantiate a Predictor:"
   ]
  },
  {
   "cell_type": "code",
   "execution_count": 34,
   "metadata": {},
   "outputs": [],
   "source": [
    "from sagemaker.predictor import Predictor\n",
    "\n",
    "predictor = Predictor(endpoint_name=endpoint)"
   ]
  },
  {
   "cell_type": "markdown",
   "metadata": {},
   "source": [
    "In the code snippet below we are going to prepare one of your saved images for prediction. Use the predictor to process the `payload`."
   ]
  },
  {
   "cell_type": "code",
   "execution_count": 35,
   "metadata": {},
   "outputs": [],
   "source": [
    "from sagemaker.serializers import IdentitySerializer\n",
    "import base64\n",
    "\n",
    "predictor.serializer = IdentitySerializer(\"image/png\")\n",
    "with open(\"./test/bicycle_s_001789.png\", \"rb\") as f:\n",
    "    payload = f.read()\n",
    "\n",
    "inference = predictor.predict(payload)"
   ]
  },
  {
   "cell_type": "markdown",
   "metadata": {},
   "source": [
    "Your `inference` object is an array of two values, the predicted probability value for each of your classes (bicycle and motorcycle respectively.) So, for example, a value of `b'[0.91, 0.09]'` indicates the probability of being a bike is 91% and being a motorcycle is 9%."
   ]
  },
  {
   "cell_type": "code",
   "execution_count": 36,
   "metadata": {},
   "outputs": [
    {
     "name": "stdout",
     "output_type": "stream",
     "text": [
      "b'[0.672872006893158, 0.32712799310684204]'\n"
     ]
    }
   ],
   "source": [
    "print(inference)"
   ]
  },
  {
   "cell_type": "markdown",
   "metadata": {},
   "source": [
    "### Draft Lambdas and Step Function Workflow\n",
    "\n",
    "Your operations team uses Step Functions to orchestrate serverless workflows. One of the nice things about Step Functions is that [workflows can call other workflows](https://docs.aws.amazon.com/step-functions/latest/dg/connect-stepfunctions.html), so the team can easily plug your workflow into the broader production architecture for Scones Unlimited.\n",
    "\n",
    "In this next stage you're going to write and deploy three Lambda functions, and then use the Step Functions visual editor to chain them together! Our functions are going to work with a simple data object:\n",
    "\n",
    "```python\n",
    "{\n",
    "    \"inferences\": [], # Output of predictor.predict\n",
    "    \"s3_key\": \"\", # Source data S3 key\n",
    "    \"s3_bucket\": \"\", # Source data S3 bucket\n",
    "    \"image_data\": \"\"  # base64 encoded string containing the image data\n",
    "}\n",
    "```\n",
    "\n",
    "A good test object that you can use for Lambda tests and Step Function executions, throughout the next section, might look like this:\n",
    "\n",
    "```python\n",
    "{\n",
    "  \"image_data\": \"\",\n",
    "  \"s3_bucket\": MY_BUCKET_NAME, # Fill in with your bucket\n",
    "  \"s3_key\": \"test/bicycle_s_000513.png\"\n",
    "}\n",
    "```\n",
    "\n",
    "Using these fields, your functions can read and write the necessary data to execute your workflow. Let's start with the first function. Your first Lambda function will copy an object from S3, base64 encode it, and then return it to the step function as `image_data` in an event.\n",
    "\n",
    "Go to the Lambda dashboard and create a new Lambda function with a descriptive name like \"serializeImageData\" and select thr 'Python 3.8' runtime. Add the same permissions as the SageMaker role you created earlier. (Reminder: you do this in the Configuration tab under \"Permissions\"). Once you're ready, use the starter code below to craft your Lambda handler:\n",
    "\n",
    "```python\n",
    "import json\n",
    "import boto3\n",
    "import base64\n",
    "\n",
    "s3 = boto3.client('s3')\n",
    "\n",
    "def lambda_handler(event, context):\n",
    "    \"\"\"A function to serialize target data from S3\"\"\"\n",
    "    \n",
    "    # Get the s3 address from the Step Function event input\n",
    "    key = ## TODO: fill in\n",
    "    bucket = ## TODO: fill in\n",
    "    \n",
    "    # Download the data from s3 to /tmp/image.png\n",
    "    ## TODO: fill in\n",
    "    \n",
    "    # We read the data from a file\n",
    "    with open(\"/tmp/image.png\", \"rb\") as f:\n",
    "        image_data = base64.b64encode(f.read())\n",
    "\n",
    "    # Pass the data back to the Step Function\n",
    "    print(\"Event:\", event.keys())\n",
    "    return {\n",
    "        'statusCode': 200,\n",
    "        'body': {\n",
    "            \"image_data\": image_data,\n",
    "            \"s3_bucket\": bucket,\n",
    "            \"s3_key\": key,\n",
    "            \"inferences\": []\n",
    "        }\n",
    "    }\n",
    "```\n",
    "\n",
    "The next function is responsible for the classification part - we're going to take the image output from the previous function, decode it, and then pass inferences back to the the Step Function.\n",
    "\n",
    "Because this Lambda will have runtime dependencies (i.e. the SageMaker SDK) you'll need to package them in your function. *Key reading:* https://docs.aws.amazon.com/lambda/latest/dg/python-package-create.html#python-package-create-with-dependency\n",
    "\n",
    "Create a new Lambda function with the same rights and a descriptive name, then fill in the starter code below for your classifier Lambda.\n",
    "\n",
    "```python\n",
    "import json\n",
    "import sagemaker\n",
    "import base64\n",
    "from sagemaker.serializers import IdentitySerializer\n",
    "\n",
    "# Fill this in with the name of your deployed model\n",
    "ENDPOINT = ## TODO: fill in\n",
    "\n",
    "def lambda_handler(event, context):\n",
    "\n",
    "    # Decode the image data\n",
    "    image = base64.b64decode(## TODO: fill in)\n",
    "\n",
    "    # Instantiate a Predictor\n",
    "    predictor = ## TODO: fill in\n",
    "\n",
    "    # For this model the IdentitySerializer needs to be \"image/png\"\n",
    "    predictor.serializer = IdentitySerializer(\"image/png\")\n",
    "    \n",
    "    # Make a prediction:\n",
    "    inferences = ## TODO: fill in\n",
    "    \n",
    "    # We return the data back to the Step Function    \n",
    "    event[\"inferences\"] = inferences.decode('utf-8')\n",
    "    return {\n",
    "        'statusCode': 200,\n",
    "        'body': json.dumps(event)\n",
    "    }\n",
    "```\n",
    "\n",
    "Finally, we need to filter low-confidence inferences. Define a threshold between 1.00 and 0.000 for your model: what is reasonble for you? If the model predicts at `.70` for it's highest confidence label, do we want to pass that inference along to downstream systems? Make one last Lambda function and tee up the same permissions:\n",
    "\n",
    "```python\n",
    "import json\n",
    "\n",
    "\n",
    "THRESHOLD = .93\n",
    "\n",
    "\n",
    "def lambda_handler(event, context):\n",
    "    \n",
    "    # Grab the inferences from the event\n",
    "    inferences = ## TODO: fill in\n",
    "    \n",
    "    # Check if any values in our inferences are above THRESHOLD\n",
    "    meets_threshold = ## TODO: fill in\n",
    "    \n",
    "    # If our threshold is met, pass our data back out of the\n",
    "    # Step Function, else, end the Step Function with an error\n",
    "    if meets_threshold:\n",
    "        pass\n",
    "    else:\n",
    "        raise(\"THRESHOLD_CONFIDENCE_NOT_MET\")\n",
    "\n",
    "    return {\n",
    "        'statusCode': 200,\n",
    "        'body': json.dumps(event)\n",
    "    }\n",
    "```\n",
    "Once you have tested the lambda functions, save the code for each lambda function in a python script called 'lambda.py'.\n",
    "\n",
    "With your lambdas in place, you can use the Step Functions visual editor to construct a workflow that chains them together. In the Step Functions console you'll have the option to author a Standard step function *Visually*.\n",
    "\n",
    "When the visual editor opens, you'll have many options to add transitions in your workflow. We're going to keep it simple and have just one: to invoke Lambda functions. Add three of them chained together. For each one, you'll be able to select the Lambda functions you just created in the proper order, filter inputs and outputs, and give them descriptive names.\n",
    "\n",
    "Make sure that you:\n",
    "\n",
    "1. Are properly filtering the inputs and outputs of your invokations (e.g. `$.body`)\n",
    "2. Take care to remove the error handling from the last function - it's supposed to \"fail loudly\" for your operations colleagues!\n",
    "\n",
    "Take a screenshot of your working step function in action and export the step function as JSON for your submission package."
   ]
  },
  {
   "cell_type": "markdown",
   "metadata": {},
   "source": [
    "\n",
    "Great! Now you can use the files in `./test` as test files for our workflow. Depending on our threshold, our workflow should reliably pass predictions about images from `./test` on to downstream systems, while erroring out for inferences below our confidence threshold!\n",
    "\n",
    "### Testing and Evaluation\n",
    "\n",
    "Do several step function invokations using data from the `./test` folder. This process should give you confidence that the workflow both *succeeds* AND *fails* as expected. In addition, SageMaker Model Monitor will generate recordings of your data and inferences which we can visualize.\n",
    "\n",
    "Here's a function that can help you generate test inputs for your invokations:"
   ]
  },
  {
   "cell_type": "code",
   "execution_count": 38,
   "metadata": {},
   "outputs": [
    {
     "data": {
      "text/plain": [
       "'{\"image_data\": \"\", \"s3_bucket\": \"sagemaker-us-east-1-019193505543\", \"s3_key\": \"test/bicycle_s_001102.png\"}'"
      ]
     },
     "execution_count": 38,
     "metadata": {},
     "output_type": "execute_result"
    }
   ],
   "source": [
    "import random\n",
    "import boto3\n",
    "import json\n",
    "\n",
    "\n",
    "def generate_test_case():\n",
    "    # Setup s3 in boto3\n",
    "    s3 = boto3.resource('s3')\n",
    "    \n",
    "    # Randomly pick from sfn or test folders in our bucket\n",
    "    objects = s3.Bucket(bucket).objects.filter(Prefix=\"test\")\n",
    "    \n",
    "    # Grab any random object key from that folder!\n",
    "    obj = random.choice([x.key for x in objects])\n",
    "    \n",
    "    return json.dumps({\n",
    "        \"image_data\": \"\",\n",
    "        \"s3_bucket\": bucket,\n",
    "        \"s3_key\": obj\n",
    "    })\n",
    "generate_test_case()"
   ]
  },
  {
   "cell_type": "markdown",
   "metadata": {},
   "source": [
    "In the Step Function dashboard for your new function, you can create new executions and copy in the generated test cases. Do several executions so that you can generate data you can evaluate and visualize.\n",
    "\n",
    "Once you've done several executions, let's visualize the record of our inferences. Pull in the JSONLines data from your inferences like so:"
   ]
  },
  {
   "cell_type": "code",
   "execution_count": 55,
   "metadata": {},
   "outputs": [
    {
     "data": {
      "text/plain": [
       "['captured_data/image-classification-2024-08-05-16-42-03-402/AllTraffic/2024/08/05/16/47-06-586-5230715b-4433-49e7-bbff-67d17ea7504a.jsonl']"
      ]
     },
     "execution_count": 55,
     "metadata": {},
     "output_type": "execute_result"
    }
   ],
   "source": [
    "from sagemaker.s3 import S3Downloader\n",
    "\n",
    "# In S3 your data will be saved to a datetime-aware path\n",
    "data_path = \"s3://sagemaker-us-east-1-019193505543/data_capture/\"\n",
    "\n",
    "S3Downloader.download(data_path, \"captured_data\")\n",
    "\n",
    "# Feel free to repeat this multiple times and pull in more data"
   ]
  },
  {
   "cell_type": "markdown",
   "metadata": {},
   "source": [
    "The data are in JSONLines format, where multiple valid JSON objects are stacked on top of eachother in a single `jsonl` file. We'll import an open-source library, `jsonlines` that was purpose built for parsing this format."
   ]
  },
  {
   "cell_type": "code",
   "execution_count": 40,
   "metadata": {},
   "outputs": [
    {
     "name": "stdout",
     "output_type": "stream",
     "text": [
      "Collecting jsonlines\n",
      "  Downloading jsonlines-4.0.0-py3-none-any.whl.metadata (1.6 kB)\n",
      "Requirement already satisfied: attrs>=19.2.0 in /opt/conda/lib/python3.10/site-packages (from jsonlines) (23.2.0)\n",
      "Downloading jsonlines-4.0.0-py3-none-any.whl (8.7 kB)\n",
      "Installing collected packages: jsonlines\n",
      "Successfully installed jsonlines-4.0.0\n"
     ]
    }
   ],
   "source": [
    "!pip install jsonlines\n",
    "import jsonlines"
   ]
  },
  {
   "cell_type": "markdown",
   "metadata": {},
   "source": [
    "Now we can extract the data from each of the source files:"
   ]
  },
  {
   "cell_type": "code",
   "execution_count": 59,
   "metadata": {},
   "outputs": [],
   "source": [
    "def list_files_recursive(directory):\n",
    "    file_paths = []\n",
    "    for root, _, files in os.walk(directory):\n",
    "        for file in files:\n",
    "            file_paths.append(os.path.join(root, file))\n",
    "    return file_paths"
   ]
  },
  {
   "cell_type": "code",
   "execution_count": 60,
   "metadata": {},
   "outputs": [
    {
     "name": "stdout",
     "output_type": "stream",
     "text": [
      "['./captured_data/image-classification-2024-08-05-16-42-03-402/AllTraffic/2024/08/05/16/47-06-586-5230715b-4433-49e7-bbff-67d17ea7504a.jsonl']\n"
     ]
    }
   ],
   "source": [
    "import os\n",
    "\n",
    "# List the file names we downloaded\n",
    "file_handles = list_files_recursive(\"./captured_data\")\n",
    "print(file_handles)"
   ]
  },
  {
   "cell_type": "code",
   "execution_count": 61,
   "metadata": {},
   "outputs": [],
   "source": [
    "# Dump all the data into an array\n",
    "json_data = []\n",
    "for jsonl in file_handles:\n",
    "    with jsonlines.open(jsonl) as f:\n",
    "        for obj in f:\n",
    "            json_data.append(obj)"
   ]
  },
  {
   "cell_type": "markdown",
   "metadata": {},
   "source": [
    "The data should now be a list of dictionaries, with significant nesting. We'll give you an example of some code that grabs data out of the objects and visualizes it:"
   ]
  },
  {
   "cell_type": "code",
   "execution_count": 63,
   "metadata": {},
   "outputs": [
    {
     "data": {
      "text/plain": [
       "([0.672872006893158, 0.32712799310684204], '2024-08-05T16:47:06Z')"
      ]
     },
     "execution_count": 63,
     "metadata": {},
     "output_type": "execute_result"
    }
   ],
   "source": [
    "# Define how we'll get our data\n",
    "def simple_getter(obj):\n",
    "    inferences = obj[\"captureData\"][\"endpointOutput\"][\"data\"]\n",
    "    timestamp = obj[\"eventMetadata\"][\"inferenceTime\"]\n",
    "    return json.loads(inferences), timestamp\n",
    "\n",
    "simple_getter(json_data[0])"
   ]
  },
  {
   "cell_type": "markdown",
   "metadata": {},
   "source": [
    "Finally, here's an example of a visualization you can build with this data. In this last part, you will take some time and build your own - the captured data has the input images, the resulting inferences, and the timestamps."
   ]
  },
  {
   "cell_type": "code",
   "execution_count": 64,
   "metadata": {},
   "outputs": [
    {
     "name": "stderr",
     "output_type": "stream",
     "text": [
      "INFO:matplotlib.category:Using categorical units to plot a list of strings that are all parsable as floats or dates. If these strings should be plotted as numbers, cast to the appropriate data type before plotting.\n",
      "INFO:matplotlib.category:Using categorical units to plot a list of strings that are all parsable as floats or dates. If these strings should be plotted as numbers, cast to the appropriate data type before plotting.\n"
     ]
    },
    {
     "data": {
      "image/png": "[encoded data removed]",
      "text/plain": [
       "<Figure size 640x480 with 1 Axes>"
      ]
     },
     "metadata": {},
     "output_type": "display_data"
    }
   ],
   "source": [
    "# Populate the data for the x and y axis\n",
    "x = []\n",
    "y = []\n",
    "for obj in json_data:\n",
    "    inference, timestamp = simple_getter(obj)\n",
    "    \n",
    "    y.append(max(inference))\n",
    "    x.append(timestamp)\n",
    "\n",
    "# Todo: here is an visualization example, take some time to build another visual that helps monitor the result\n",
    "# Plot the data\n",
    "plt.scatter(x, y, c=['r' if k<.94 else 'b' for k in y ])\n",
    "plt.axhline(y=0.94, color='g', linestyle='--')\n",
    "plt.ylim(bottom=.88)\n",
    "\n",
    "# Add labels\n",
    "plt.ylabel(\"Confidence\")\n",
    "plt.suptitle(\"Observed Recent Inferences\", size=14)\n",
    "plt.title(\"Pictured with confidence threshold for production use\", size=10)\n",
    "\n",
    "# Give it some pizzaz!\n",
    "plt.style.use(\"Solarize_Light2\")\n",
    "plt.gcf().autofmt_xdate()"
   ]
  },
  {
   "cell_type": "code",
   "execution_count": 69,
   "metadata": {},
   "outputs": [
    {
     "data": {
      "image/png": "[encoded data removed]",
      "text/plain": [
       "<Figure size 1400x700 with 1 Axes>"
      ]
     },
     "metadata": {},
     "output_type": "display_data"
    }
   ],
   "source": [
    "import matplotlib.pyplot as plt\n",
    "from datetime import datetime\n",
    "import json\n",
    "\n",
    "# Define how we'll get our data\n",
    "def simple_getter(obj):\n",
    "    inferences = obj[\"captureData\"][\"endpointOutput\"][\"data\"]\n",
    "    timestamp = obj[\"eventMetadata\"][\"inferenceTime\"]\n",
    "    return json.loads(inferences), timestamp\n",
    "\n",
    "# Extract data for plotting\n",
    "x = []\n",
    "y = []\n",
    "for obj in json_data:\n",
    "    inference, timestamp = simple_getter(obj)\n",
    "    y.append(max(inference))\n",
    "    x.append(datetime.strptime(timestamp, \"%Y-%m-%dT%H:%M:%SZ\"))\n",
    "\n",
    "# Sort the data by timestamp\n",
    "x, y = zip(*sorted(zip(x, y)))\n",
    "\n",
    "# Plot the data\n",
    "plt.figure(figsize=(14, 7))\n",
    "plt.plot(x, y, marker='o', linestyle='-', color='b', label='Confidence Score')\n",
    "plt.axhline(y=0.94, color='g', linestyle='--', label='Threshold (0.94)')\n",
    "\n",
    "# Highlight points above and below the threshold\n",
    "above_threshold = [i for i in y if i >= 0.94]\n",
    "below_threshold = [i for i in y if i < 0.94]\n",
    "above_threshold_times = [x[i] for i in range(len(x)) if y[i] >= 0.94]\n",
    "below_threshold_times = [x[i] for i in range(len(x)) if y[i] < 0.94]\n",
    "\n",
    "plt.scatter(above_threshold_times, above_threshold, color='blue', label='Above Threshold')\n",
    "plt.scatter(below_threshold_times, below_threshold, color='red', label='Below Threshold')\n",
    "\n",
    "# Add labels and title\n",
    "plt.xlabel(\"Timestamp\")\n",
    "plt.ylabel(\"Confidence Score\")\n",
    "plt.title(\"Confidence Scores Over Time with Threshold Highlight\")\n",
    "plt.legend()\n",
    "plt.xticks(rotation=45)\n",
    "plt.tight_layout()\n",
    "\n",
    "# Show the plot\n",
    "plt.show()"
   ]
  },
  {
   "cell_type": "markdown",
   "metadata": {},
   "source": [
    "### Todo: build your own visualization\n"
   ]
  },
  {
   "cell_type": "markdown",
   "metadata": {},
   "source": [
    "### Congratulations!\n",
    "\n",
    "You've reached the end of the project. In this project you created an event-drivent ML workflow that can be incorporated into the Scones Unlimited production architecture. You used the SageMaker Estimator API to deploy your SageMaker Model and Endpoint, and you used AWS Lambda and Step Functions to orchestrate your ML workflow. Using SageMaker Model Monitor, you instrumented and observed your Endpoint, and at the end of the project you built a visualization to help stakeholders understand the performance of the Endpoint over time. If you're up for it, you can even go further with these stretch goals:\n",
    "\n",
    "* Extend your workflow to incorporate more classes: the CIFAR dataset includes other vehicles that Scones Unlimited can identify with this model.\n",
    "* Modify your event driven workflow: can you rewrite your Lambda functions so that the workflow can process multiple image inputs in parallel? Can the Step Function \"fan out\" to accomodate this new workflow?\n",
    "* Consider the test data generator we provided for you. Can we use it to create a \"dummy data\" generator, to simulate a continuous stream of input data? Or a big paralell load of data?\n",
    "* What if we want to get notified every time our step function errors out? Can we use the Step Functions visual editor in conjunction with a service like SNS to accomplish this? Try it out!\n",
    "\n",
    "\n"
   ]
  }
 ],
 "metadata": {
  "instance_type": "ml.t3.medium",
  "kernelspec": {
   "display_name": "Python 3 (ipykernel)",
   "language": "python",
   "name": "python3"
  },
  "language_info": {
   "codemirror_mode": {
    "name": "ipython",
    "version": 3
   },
   "file_extension": ".py",
   "mimetype": "text/x-python",
   "name": "python",
   "nbconvert_exporter": "python",
   "pygments_lexer": "ipython3",
   "version": "3.10.14"
  }
 },
 "nbformat": 4,
 "nbformat_minor": 4
}
